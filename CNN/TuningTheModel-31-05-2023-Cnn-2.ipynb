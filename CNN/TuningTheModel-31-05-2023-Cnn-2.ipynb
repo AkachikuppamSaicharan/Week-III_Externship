{
 "cells": [
  {
   "cell_type": "code",
   "execution_count": 46,
   "metadata": {
    "collapsed": true,
    "ExecuteTime": {
     "end_time": "2023-05-31T15:06:16.716364700Z",
     "start_time": "2023-05-31T15:06:16.693321100Z"
    }
   },
   "outputs": [],
   "source": [
    "#Today We Will Learn About How to Tune the Cnn Models"
   ]
  },
  {
   "cell_type": "code",
   "execution_count": 47,
   "outputs": [],
   "source": [
    "#Increasing the Number of Convolutional Layers and Max Pooling Layers(And Increase Epoch and Decrease Batch Size)\n",
    "# If it Fails Then We Follow DropOut Batch Normalization and Early Stopping\n",
    "#If the Above Also Fails Use Keras Tuning"
   ],
   "metadata": {
    "collapsed": false,
    "ExecuteTime": {
     "end_time": "2023-05-31T15:06:16.716364700Z",
     "start_time": "2023-05-31T15:06:16.693321100Z"
    }
   }
  },
  {
   "cell_type": "code",
   "execution_count": 48,
   "outputs": [],
   "source": [
    "#Importing Libraries\n",
    "from keras.layers import Dropout,BatchNormalization"
   ],
   "metadata": {
    "collapsed": false,
    "ExecuteTime": {
     "end_time": "2023-05-31T15:06:16.716364700Z",
     "start_time": "2023-05-31T15:06:16.704271900Z"
    }
   }
  },
  {
   "cell_type": "code",
   "execution_count": 49,
   "outputs": [],
   "source": [
    "#Copy The Same Model-Layers From the Previous\n",
    "#After Convolutional Layer Use BatchNormalization Using Model.add(BatchNormalization())\n",
    "#After Pooling Layer Add DroupOutLayer()-On DroupOut Layer How many Percentage of Values Need to Be Dropped Give a Lowest Number Give 0.2 20% of Data is Dropped(Greater Value is Spoling Our Model)\n",
    "#Repeat this Until Multiple Time Until all Convolutional and MaxPooling2D Layers Complete\n",
    "#Even After Flatten Layer We Can Give Batch Normalization Before the ANN Also We Can Add It"
   ],
   "metadata": {
    "collapsed": false,
    "ExecuteTime": {
     "end_time": "2023-05-31T15:06:16.763948200Z",
     "start_time": "2023-05-31T15:06:16.716364700Z"
    }
   }
  },
  {
   "cell_type": "code",
   "execution_count": 50,
   "outputs": [],
   "source": [
    "#Here U Will Get the Parameters Shows Trainable and Non-Trainable The Non Trainable is Dropped(This is Unwanted 20% Data)"
   ],
   "metadata": {
    "collapsed": false,
    "ExecuteTime": {
     "end_time": "2023-05-31T15:06:16.763948200Z",
     "start_time": "2023-05-31T15:06:16.722544500Z"
    }
   }
  },
  {
   "cell_type": "code",
   "execution_count": 51,
   "outputs": [],
   "source": [
    "#Next Compile With Previous Model Command and Train it Eg 50 Epochs"
   ],
   "metadata": {
    "collapsed": false,
    "ExecuteTime": {
     "end_time": "2023-05-31T15:06:16.763948200Z",
     "start_time": "2023-05-31T15:06:16.732350100Z"
    }
   }
  },
  {
   "cell_type": "code",
   "execution_count": 52,
   "outputs": [],
   "source": [
    "#So in Fit We Give Another Parameter Called Callbacks Parameter By Default it is None\n",
    "#What We Must Do Is Callbacks=EarlyStopping\n",
    "#If For 50 Epochs if Our Model Stops at 30 Then Halt that"
   ],
   "metadata": {
    "collapsed": false,
    "ExecuteTime": {
     "end_time": "2023-05-31T15:06:16.763948200Z",
     "start_time": "2023-05-31T15:06:16.740792400Z"
    }
   }
  },
  {
   "cell_type": "code",
   "execution_count": 53,
   "outputs": [],
   "source": [
    "#To Use Early Stopping\n",
    "#To Use Callbacks First Import it\n",
    "from keras.callbacks import EarlyStopping"
   ],
   "metadata": {
    "collapsed": false,
    "ExecuteTime": {
     "end_time": "2023-05-31T15:06:16.763948200Z",
     "start_time": "2023-05-31T15:06:16.749534300Z"
    }
   }
  },
  {
   "cell_type": "code",
   "execution_count": 54,
   "outputs": [],
   "source": [
    "#Create a Variable Like EarlyStopping and Initialize it With EarlyStopping()\n",
    "#EarlyStopping Will Have Monitor Which is given as 'val_loss',patience=0)\n",
    "#When You are Running the Epoch It Will Notice Each And Every Epoch an Notice the Validation_Accuracy\n",
    "#EarlyStopping Checks Whether the Validation_Accuracy is Increasing Or Not,So Until the Given Patience It Will Wait After the Patience Also Completes Then It Will Halt if The Val_Accuracy isn't INcreasing\n",
    "#Model.fit(train,batch_size=8,epochs=50,validation_data=test,callbacks=early_stop)\n",
    "#Same Fit Command With Call Back Defined as a Variable is Given To Work With Early Stop\n",
    "#At Which Point the Epoch Stops It Would Be With Nax Val_Accuracy\n",
    "#But Assurity that it is the Maximum_Accuracy  isnt Given Because After Some Other Epochs May Be The Accuracy Greater After the Patience Exceeds Also."
   ],
   "metadata": {
    "collapsed": false,
    "ExecuteTime": {
     "end_time": "2023-05-31T15:06:16.767372400Z",
     "start_time": "2023-05-31T15:06:16.758439500Z"
    }
   }
  },
  {
   "cell_type": "code",
   "execution_count": 55,
   "outputs": [],
   "source": [
    "#IN Callbacks You Can Define Monitor to Check 'accuracy', and many other Factors are there to halt"
   ],
   "metadata": {
    "collapsed": false,
    "ExecuteTime": {
     "end_time": "2023-05-31T15:06:16.777053500Z",
     "start_time": "2023-05-31T15:06:16.767372400Z"
    }
   }
  },
  {
   "cell_type": "code",
   "execution_count": 56,
   "outputs": [],
   "source": [
    "#Projects Will Be Of CNN So We Must Understand The Tuning Well"
   ],
   "metadata": {
    "collapsed": false,
    "ExecuteTime": {
     "end_time": "2023-05-31T15:06:16.786185600Z",
     "start_time": "2023-05-31T15:06:16.780065400Z"
    }
   }
  },
  {
   "cell_type": "code",
   "execution_count": 57,
   "outputs": [],
   "source": [
    "#Reference From Colab For that Code"
   ],
   "metadata": {
    "collapsed": false,
    "ExecuteTime": {
     "end_time": "2023-05-31T15:06:16.828253700Z",
     "start_time": "2023-05-31T15:06:16.786185600Z"
    }
   }
  },
  {
   "cell_type": "code",
   "execution_count": 58,
   "outputs": [],
   "source": [
    "#CNN Playground"
   ],
   "metadata": {
    "collapsed": false,
    "ExecuteTime": {
     "end_time": "2023-05-31T15:06:16.828253700Z",
     "start_time": "2023-05-31T15:06:16.796227Z"
    }
   }
  },
  {
   "cell_type": "code",
   "execution_count": 32,
   "outputs": [],
   "source": [
    "#Importing Libraries For Data Augmentation\n",
    "from keras.preprocessing.image import  ImageDataGenerator\n",
    "from keras.layers import Dense,Convolution2D,MaxPooling2D,Flatten\n",
    "from keras.models import Sequential"
   ],
   "metadata": {
    "collapsed": false,
    "ExecuteTime": {
     "end_time": "2023-06-01T05:47:30.580113100Z",
     "start_time": "2023-06-01T05:47:30.543842Z"
    }
   }
  },
  {
   "cell_type": "code",
   "execution_count": 33,
   "outputs": [],
   "source": [
    "#Creating Training and Testing Generators\n",
    "Training_Gen=ImageDataGenerator(rescale=(1./255),horizontal_flip=True,shear_range=0.2)\n",
    "Testing_Gen=ImageDataGenerator(rescale=(1./255))"
   ],
   "metadata": {
    "collapsed": false,
    "ExecuteTime": {
     "end_time": "2023-06-01T05:47:30.591138500Z",
     "start_time": "2023-06-01T05:47:30.580113100Z"
    }
   }
  },
  {
   "cell_type": "code",
   "execution_count": 34,
   "outputs": [
    {
     "name": "stdout",
     "output_type": "stream",
     "text": [
      "Found 1238 images belonging to 4 classes.\n",
      "Found 326 images belonging to 4 classes.\n"
     ]
    }
   ],
   "source": [
    "''#Importing Dataset\n",
    "Training=Training_Gen.flow_from_directory('Animal_Dataset/dataset/Training',target_size=(120,120),class_mode='categorical',batch_size=8)\n",
    "Testing=Testing_Gen.flow_from_directory('Animal_Dataset/dataset/Testing',target_size=(120,120),class_mode='categorical',batch_size=8)"
   ],
   "metadata": {
    "collapsed": false,
    "ExecuteTime": {
     "end_time": "2023-06-01T05:47:31.290777500Z",
     "start_time": "2023-06-01T05:47:31.184797100Z"
    }
   }
  },
  {
   "cell_type": "code",
   "execution_count": 35,
   "outputs": [],
   "source": [
    "#Creating Test Cases\n",
    "#Importing Libraries for Test Cases\n",
    "import numpy as np\n",
    "from tensorflow.keras.preprocessing import image\n",
    "Images=[image.load_img('Bear.jpg',target_size=(120,120)),image.load_img('Crow.jpg',target_size=(120,120)),image.load_img('Elephant.jpg',target_size=(120,120)),image.load_img('Rats.jpg',target_size=(120,120))]\n",
    "for i in range(len(Images)):\n",
    "    Images[i]=image.img_to_array(Images[i])\n",
    "    Images[i]=np.expand_dims(Images[i],axis=0)"
   ],
   "metadata": {
    "collapsed": false,
    "ExecuteTime": {
     "end_time": "2023-06-01T05:47:31.879518Z",
     "start_time": "2023-06-01T05:47:31.837311400Z"
    }
   }
  },
  {
   "cell_type": "code",
   "execution_count": 36,
   "outputs": [],
   "source": [
    "#Creating a Tuning Model\n",
    "TunedModel=Sequential()"
   ],
   "metadata": {
    "collapsed": false,
    "ExecuteTime": {
     "end_time": "2023-06-01T05:47:32.443144800Z",
     "start_time": "2023-06-01T05:47:32.428461Z"
    }
   }
  },
  {
   "cell_type": "code",
   "execution_count": 37,
   "outputs": [],
   "source": [
    "#Creating Layers\n",
    "#Set-I\n",
    "TunedModel.add(Convolution2D(filters=20,input_shape=(120,120,3),kernel_size=(3,3),activation='relu'))\n",
    "TunedModel.add(MaxPooling2D(pool_size=(2,2)))"
   ],
   "metadata": {
    "collapsed": false,
    "ExecuteTime": {
     "end_time": "2023-06-01T05:47:33.163160600Z",
     "start_time": "2023-06-01T05:47:33.124000100Z"
    }
   }
  },
  {
   "cell_type": "code",
   "execution_count": 38,
   "outputs": [],
   "source": [
    "#Creating Layers\n",
    "#Set-II\n",
    "TunedModel.add(Convolution2D(filters=40,kernel_size=(3,3),activation='relu'))\n",
    "TunedModel.add(MaxPooling2D(pool_size=(2,2)))"
   ],
   "metadata": {
    "collapsed": false,
    "ExecuteTime": {
     "end_time": "2023-06-01T05:47:33.782796700Z",
     "start_time": "2023-06-01T05:47:33.742630300Z"
    }
   }
  },
  {
   "cell_type": "code",
   "execution_count": 39,
   "outputs": [],
   "source": [
    "#Creating Layers\n",
    "#Set-III\n",
    "TunedModel.add(Convolution2D(filters=80,kernel_size=(3,3),activation='relu'))\n",
    "TunedModel.add(MaxPooling2D(pool_size=(2,2)))"
   ],
   "metadata": {
    "collapsed": false,
    "ExecuteTime": {
     "end_time": "2023-06-01T05:47:34.355681300Z",
     "start_time": "2023-06-01T05:47:34.308765500Z"
    }
   }
  },
  {
   "cell_type": "code",
   "execution_count": 40,
   "outputs": [],
   "source": [
    "#Creating Layers\n",
    "TunedModel.add(Flatten())\n",
    "TunedModel.add(Dense(60,activation='relu'))\n",
    "TunedModel.add(Dense(30,activation='relu'))\n",
    "TunedModel.add(Dense(15,activation='relu'))\n",
    "TunedModel.add(Dense(4,activation='softmax'))"
   ],
   "metadata": {
    "collapsed": false,
    "ExecuteTime": {
     "end_time": "2023-06-01T05:47:35.012677600Z",
     "start_time": "2023-06-01T05:47:34.936905800Z"
    }
   }
  },
  {
   "cell_type": "code",
   "execution_count": 41,
   "outputs": [],
   "source": [
    "#Compiling Tuned Model\n",
    "TunedModel.compile(optimizer='adam',metrics=['accuracy'],loss='categorical_crossentropy')"
   ],
   "metadata": {
    "collapsed": false,
    "ExecuteTime": {
     "end_time": "2023-06-01T05:47:35.976960Z",
     "start_time": "2023-06-01T05:47:35.922127400Z"
    }
   }
  },
  {
   "cell_type": "code",
   "execution_count": 42,
   "outputs": [
    {
     "name": "stdout",
     "output_type": "stream",
     "text": [
      "Model: \"sequential_3\"\n",
      "_________________________________________________________________\n",
      " Layer (type)                Output Shape              Param #   \n",
      "=================================================================\n",
      " conv2d_5 (Conv2D)           (None, 118, 118, 20)      560       \n",
      "                                                                 \n",
      " max_pooling2d_5 (MaxPooling  (None, 59, 59, 20)       0         \n",
      " 2D)                                                             \n",
      "                                                                 \n",
      " conv2d_6 (Conv2D)           (None, 57, 57, 40)        7240      \n",
      "                                                                 \n",
      " max_pooling2d_6 (MaxPooling  (None, 28, 28, 40)       0         \n",
      " 2D)                                                             \n",
      "                                                                 \n",
      " conv2d_7 (Conv2D)           (None, 26, 26, 80)        28880     \n",
      "                                                                 \n",
      " max_pooling2d_7 (MaxPooling  (None, 13, 13, 80)       0         \n",
      " 2D)                                                             \n",
      "                                                                 \n",
      " flatten_1 (Flatten)         (None, 13520)             0         \n",
      "                                                                 \n",
      " dense_2 (Dense)             (None, 60)                811260    \n",
      "                                                                 \n",
      " dense_3 (Dense)             (None, 30)                1830      \n",
      "                                                                 \n",
      " dense_4 (Dense)             (None, 15)                465       \n",
      "                                                                 \n",
      " dense_5 (Dense)             (None, 4)                 64        \n",
      "                                                                 \n",
      "=================================================================\n",
      "Total params: 850,299\n",
      "Trainable params: 850,299\n",
      "Non-trainable params: 0\n",
      "_________________________________________________________________\n"
     ]
    }
   ],
   "source": [
    "TunedModel.summary()"
   ],
   "metadata": {
    "collapsed": false,
    "ExecuteTime": {
     "end_time": "2023-06-01T05:47:36.923023500Z",
     "start_time": "2023-06-01T05:47:36.846598400Z"
    }
   }
  },
  {
   "cell_type": "code",
   "execution_count": 43,
   "outputs": [
    {
     "name": "stdout",
     "output_type": "stream",
     "text": [
      "Epoch 1/100\n",
      "155/155 [==============================] - 19s 112ms/step - loss: 1.2713 - accuracy: 0.3974 - val_loss: 0.9939 - val_accuracy: 0.5859\n",
      "Epoch 2/100\n",
      "155/155 [==============================] - 20s 129ms/step - loss: 0.9727 - accuracy: 0.5792 - val_loss: 0.9230 - val_accuracy: 0.6043\n",
      "Epoch 3/100\n",
      "155/155 [==============================] - 17s 110ms/step - loss: 0.8261 - accuracy: 0.6656 - val_loss: 0.6235 - val_accuracy: 0.7270\n",
      "Epoch 4/100\n",
      "155/155 [==============================] - 17s 111ms/step - loss: 0.6375 - accuracy: 0.7447 - val_loss: 0.5159 - val_accuracy: 0.8006\n",
      "Epoch 5/100\n",
      "155/155 [==============================] - 17s 112ms/step - loss: 0.4835 - accuracy: 0.8053 - val_loss: 0.3561 - val_accuracy: 0.8681\n",
      "Epoch 6/100\n",
      "155/155 [==============================] - 19s 125ms/step - loss: 0.3820 - accuracy: 0.8659 - val_loss: 0.3000 - val_accuracy: 0.8926\n",
      "Epoch 7/100\n",
      "155/155 [==============================] - 18s 118ms/step - loss: 0.2346 - accuracy: 0.9216 - val_loss: 0.1655 - val_accuracy: 0.9356\n",
      "Epoch 8/100\n",
      "155/155 [==============================] - 20s 126ms/step - loss: 0.2091 - accuracy: 0.9281 - val_loss: 0.1072 - val_accuracy: 0.9693\n",
      "Epoch 9/100\n",
      "155/155 [==============================] - 19s 124ms/step - loss: 0.1640 - accuracy: 0.9386 - val_loss: 0.1213 - val_accuracy: 0.9601\n",
      "Epoch 10/100\n",
      "155/155 [==============================] - 18s 118ms/step - loss: 0.1191 - accuracy: 0.9653 - val_loss: 0.0861 - val_accuracy: 0.9601\n",
      "Epoch 11/100\n",
      "155/155 [==============================] - 21s 138ms/step - loss: 0.1187 - accuracy: 0.9661 - val_loss: 0.0751 - val_accuracy: 0.9693\n",
      "Epoch 12/100\n",
      "155/155 [==============================] - 22s 143ms/step - loss: 0.0730 - accuracy: 0.9766 - val_loss: 0.0324 - val_accuracy: 0.9908\n",
      "Epoch 13/100\n",
      "155/155 [==============================] - 19s 119ms/step - loss: 0.0751 - accuracy: 0.9766 - val_loss: 0.0573 - val_accuracy: 0.9847\n",
      "Epoch 14/100\n",
      "155/155 [==============================] - 18s 116ms/step - loss: 0.0806 - accuracy: 0.9693 - val_loss: 0.1516 - val_accuracy: 0.9448\n",
      "Epoch 15/100\n",
      "155/155 [==============================] - 18s 119ms/step - loss: 0.0339 - accuracy: 0.9879 - val_loss: 0.0062 - val_accuracy: 1.0000\n",
      "Epoch 16/100\n",
      "155/155 [==============================] - 19s 122ms/step - loss: 0.0220 - accuracy: 0.9943 - val_loss: 0.0058 - val_accuracy: 1.0000\n",
      "Epoch 17/100\n",
      "155/155 [==============================] - 19s 120ms/step - loss: 0.0240 - accuracy: 0.9943 - val_loss: 0.0045 - val_accuracy: 0.9969\n",
      "Epoch 18/100\n",
      "155/155 [==============================] - 18s 116ms/step - loss: 0.0292 - accuracy: 0.9911 - val_loss: 0.2864 - val_accuracy: 0.9172\n",
      "Epoch 19/100\n",
      "155/155 [==============================] - 17s 111ms/step - loss: 0.1380 - accuracy: 0.9532 - val_loss: 0.0365 - val_accuracy: 0.9908\n",
      "Epoch 20/100\n",
      "155/155 [==============================] - 18s 117ms/step - loss: 0.0664 - accuracy: 0.9798 - val_loss: 0.0144 - val_accuracy: 0.9969\n",
      "Epoch 21/100\n",
      "155/155 [==============================] - 19s 122ms/step - loss: 0.0206 - accuracy: 0.9919 - val_loss: 0.0206 - val_accuracy: 0.9908\n",
      "Epoch 22/100\n",
      "155/155 [==============================] - 18s 117ms/step - loss: 0.0741 - accuracy: 0.9790 - val_loss: 0.0829 - val_accuracy: 0.9755\n",
      "Epoch 23/100\n",
      "155/155 [==============================] - 19s 122ms/step - loss: 0.0764 - accuracy: 0.9742 - val_loss: 0.0107 - val_accuracy: 0.9969\n",
      "Epoch 24/100\n",
      "155/155 [==============================] - 17s 112ms/step - loss: 0.0287 - accuracy: 0.9903 - val_loss: 0.0098 - val_accuracy: 1.0000\n",
      "Epoch 25/100\n",
      "155/155 [==============================] - 18s 114ms/step - loss: 0.0190 - accuracy: 0.9943 - val_loss: 0.0042 - val_accuracy: 1.0000\n",
      "Epoch 26/100\n",
      "155/155 [==============================] - 17s 112ms/step - loss: 0.0096 - accuracy: 0.9952 - val_loss: 0.0039 - val_accuracy: 0.9969\n",
      "Epoch 27/100\n",
      "155/155 [==============================] - 17s 107ms/step - loss: 0.0147 - accuracy: 0.9935 - val_loss: 0.0073 - val_accuracy: 0.9969\n",
      "Epoch 28/100\n",
      "155/155 [==============================] - 18s 118ms/step - loss: 0.0299 - accuracy: 0.9895 - val_loss: 0.0189 - val_accuracy: 0.9908\n",
      "Epoch 29/100\n",
      "155/155 [==============================] - 19s 120ms/step - loss: 0.0108 - accuracy: 0.9960 - val_loss: 0.0062 - val_accuracy: 0.9969\n",
      "Epoch 30/100\n",
      "155/155 [==============================] - 19s 125ms/step - loss: 0.0041 - accuracy: 0.9984 - val_loss: 0.0012 - val_accuracy: 1.0000\n",
      "Epoch 31/100\n",
      "155/155 [==============================] - 18s 116ms/step - loss: 0.0087 - accuracy: 0.9976 - val_loss: 0.0056 - val_accuracy: 0.9969\n",
      "Epoch 32/100\n",
      "155/155 [==============================] - 19s 123ms/step - loss: 0.0057 - accuracy: 0.9968 - val_loss: 0.0043 - val_accuracy: 0.9969\n",
      "Epoch 33/100\n",
      "155/155 [==============================] - 19s 123ms/step - loss: 0.0072 - accuracy: 0.9976 - val_loss: 8.7173e-04 - val_accuracy: 1.0000\n",
      "Epoch 34/100\n",
      "155/155 [==============================] - 18s 115ms/step - loss: 0.0045 - accuracy: 0.9976 - val_loss: 0.0014 - val_accuracy: 1.0000\n",
      "Epoch 35/100\n",
      "155/155 [==============================] - 18s 118ms/step - loss: 0.0059 - accuracy: 0.9976 - val_loss: 0.0018 - val_accuracy: 1.0000\n",
      "Epoch 36/100\n",
      "155/155 [==============================] - 18s 118ms/step - loss: 0.0050 - accuracy: 0.9968 - val_loss: 0.0037 - val_accuracy: 0.9969\n",
      "Epoch 37/100\n",
      "155/155 [==============================] - 17s 108ms/step - loss: 0.0051 - accuracy: 0.9976 - val_loss: 0.0080 - val_accuracy: 0.9969\n",
      "Epoch 38/100\n",
      "155/155 [==============================] - 18s 116ms/step - loss: 0.0068 - accuracy: 0.9976 - val_loss: 0.1233 - val_accuracy: 0.9755\n",
      "Epoch 39/100\n",
      "155/155 [==============================] - 18s 114ms/step - loss: 0.2342 - accuracy: 0.9241 - val_loss: 0.0371 - val_accuracy: 0.9877\n",
      "Epoch 40/100\n",
      "155/155 [==============================] - 18s 114ms/step - loss: 0.0487 - accuracy: 0.9830 - val_loss: 0.0803 - val_accuracy: 0.9785\n",
      "Epoch 41/100\n",
      "155/155 [==============================] - 18s 116ms/step - loss: 0.0872 - accuracy: 0.9709 - val_loss: 0.0157 - val_accuracy: 0.9969\n",
      "Epoch 42/100\n",
      "155/155 [==============================] - 16s 102ms/step - loss: 0.0265 - accuracy: 0.9911 - val_loss: 0.0101 - val_accuracy: 0.9969\n",
      "Epoch 43/100\n",
      "155/155 [==============================] - 19s 121ms/step - loss: 0.0247 - accuracy: 0.9903 - val_loss: 0.0099 - val_accuracy: 0.9969\n",
      "Epoch 44/100\n",
      "155/155 [==============================] - 20s 128ms/step - loss: 0.0115 - accuracy: 0.9960 - val_loss: 0.0026 - val_accuracy: 0.9969\n",
      "Epoch 45/100\n",
      "155/155 [==============================] - 19s 120ms/step - loss: 0.0080 - accuracy: 0.9952 - val_loss: 0.0035 - val_accuracy: 0.9969\n",
      "Epoch 46/100\n",
      "155/155 [==============================] - 20s 127ms/step - loss: 0.0055 - accuracy: 0.9960 - val_loss: 0.0021 - val_accuracy: 1.0000\n",
      "Epoch 47/100\n",
      "155/155 [==============================] - 20s 126ms/step - loss: 0.0062 - accuracy: 0.9968 - val_loss: 0.0011 - val_accuracy: 1.0000\n",
      "Epoch 48/100\n",
      "155/155 [==============================] - 20s 129ms/step - loss: 0.0054 - accuracy: 0.9968 - val_loss: 9.7888e-04 - val_accuracy: 1.0000\n",
      "Epoch 49/100\n",
      "155/155 [==============================] - 20s 128ms/step - loss: 0.0056 - accuracy: 0.9968 - val_loss: 0.0010 - val_accuracy: 1.0000\n",
      "Epoch 50/100\n",
      "155/155 [==============================] - 20s 128ms/step - loss: 0.0040 - accuracy: 0.9984 - val_loss: 0.0068 - val_accuracy: 0.9969\n",
      "Epoch 51/100\n",
      "155/155 [==============================] - 21s 134ms/step - loss: 0.1189 - accuracy: 0.9661 - val_loss: 0.1064 - val_accuracy: 0.9755\n",
      "Epoch 52/100\n",
      "155/155 [==============================] - 19s 121ms/step - loss: 0.0578 - accuracy: 0.9822 - val_loss: 0.0121 - val_accuracy: 0.9969\n",
      "Epoch 53/100\n",
      "155/155 [==============================] - 20s 126ms/step - loss: 0.0087 - accuracy: 0.9968 - val_loss: 0.0022 - val_accuracy: 1.0000\n",
      "Epoch 54/100\n",
      "155/155 [==============================] - 19s 126ms/step - loss: 0.0796 - accuracy: 0.9782 - val_loss: 0.0086 - val_accuracy: 1.0000\n",
      "Epoch 55/100\n",
      "155/155 [==============================] - 19s 121ms/step - loss: 0.0331 - accuracy: 0.9879 - val_loss: 0.0021 - val_accuracy: 1.0000\n",
      "Epoch 56/100\n",
      "155/155 [==============================] - 20s 126ms/step - loss: 0.0108 - accuracy: 0.9952 - val_loss: 0.0012 - val_accuracy: 1.0000\n",
      "Epoch 57/100\n",
      "155/155 [==============================] - 18s 114ms/step - loss: 0.0055 - accuracy: 0.9976 - val_loss: 0.0013 - val_accuracy: 1.0000\n",
      "Epoch 58/100\n",
      "155/155 [==============================] - 18s 119ms/step - loss: 0.0060 - accuracy: 0.9976 - val_loss: 0.0066 - val_accuracy: 0.9969\n",
      "Epoch 59/100\n",
      "155/155 [==============================] - 19s 120ms/step - loss: 0.0061 - accuracy: 0.9960 - val_loss: 8.1800e-04 - val_accuracy: 1.0000\n",
      "Epoch 60/100\n",
      "155/155 [==============================] - 20s 127ms/step - loss: 0.0049 - accuracy: 0.9976 - val_loss: 0.0016 - val_accuracy: 1.0000\n",
      "Epoch 61/100\n",
      "155/155 [==============================] - 18s 118ms/step - loss: 0.0053 - accuracy: 0.9968 - val_loss: 0.0016 - val_accuracy: 1.0000\n",
      "Epoch 62/100\n",
      "155/155 [==============================] - 19s 121ms/step - loss: 0.0046 - accuracy: 0.9960 - val_loss: 0.0016 - val_accuracy: 1.0000\n",
      "Epoch 63/100\n",
      "155/155 [==============================] - 20s 131ms/step - loss: 0.0047 - accuracy: 0.9968 - val_loss: 0.0021 - val_accuracy: 1.0000\n",
      "Epoch 64/100\n",
      "155/155 [==============================] - 20s 130ms/step - loss: 0.0045 - accuracy: 0.9960 - val_loss: 0.0018 - val_accuracy: 1.0000\n",
      "Epoch 65/100\n",
      "155/155 [==============================] - 17s 110ms/step - loss: 0.0047 - accuracy: 0.9968 - val_loss: 0.0015 - val_accuracy: 1.0000\n",
      "Epoch 66/100\n",
      "155/155 [==============================] - 17s 112ms/step - loss: 0.0049 - accuracy: 0.9968 - val_loss: 0.0024 - val_accuracy: 0.9969\n",
      "Epoch 67/100\n",
      "155/155 [==============================] - 18s 118ms/step - loss: 0.0070 - accuracy: 0.9968 - val_loss: 6.7619e-04 - val_accuracy: 1.0000\n",
      "Epoch 68/100\n",
      "155/155 [==============================] - 18s 113ms/step - loss: 0.0059 - accuracy: 0.9960 - val_loss: 0.0021 - val_accuracy: 1.0000\n",
      "Epoch 69/100\n",
      "155/155 [==============================] - 15s 97ms/step - loss: 0.0041 - accuracy: 0.9968 - val_loss: 0.0023 - val_accuracy: 0.9969\n",
      "Epoch 70/100\n",
      "155/155 [==============================] - 18s 115ms/step - loss: 0.0042 - accuracy: 0.9968 - val_loss: 0.0027 - val_accuracy: 0.9969\n",
      "Epoch 71/100\n",
      "155/155 [==============================] - 19s 120ms/step - loss: 0.0044 - accuracy: 0.9968 - val_loss: 0.0025 - val_accuracy: 0.9969\n",
      "Epoch 72/100\n",
      "155/155 [==============================] - 19s 125ms/step - loss: 0.0036 - accuracy: 0.9992 - val_loss: 0.0029 - val_accuracy: 0.9969\n",
      "Epoch 73/100\n",
      "155/155 [==============================] - 19s 119ms/step - loss: 0.0050 - accuracy: 0.9960 - val_loss: 0.0025 - val_accuracy: 0.9969\n",
      "Epoch 74/100\n",
      "155/155 [==============================] - 17s 108ms/step - loss: 0.0050 - accuracy: 0.9976 - val_loss: 0.0021 - val_accuracy: 1.0000\n",
      "Epoch 75/100\n",
      "155/155 [==============================] - 18s 118ms/step - loss: 0.0070 - accuracy: 0.9968 - val_loss: 0.0026 - val_accuracy: 1.0000\n",
      "Epoch 76/100\n",
      "155/155 [==============================] - 18s 116ms/step - loss: 0.0043 - accuracy: 0.9976 - val_loss: 0.0019 - val_accuracy: 1.0000\n",
      "Epoch 77/100\n",
      "155/155 [==============================] - 18s 115ms/step - loss: 0.0074 - accuracy: 0.9960 - val_loss: 0.0049 - val_accuracy: 0.9969\n",
      "Epoch 78/100\n",
      "155/155 [==============================] - 17s 113ms/step - loss: 0.0290 - accuracy: 0.9903 - val_loss: 0.2855 - val_accuracy: 0.9387\n",
      "Epoch 79/100\n",
      "155/155 [==============================] - 18s 116ms/step - loss: 0.3798 - accuracy: 0.8861 - val_loss: 0.0763 - val_accuracy: 0.9693\n",
      "Epoch 80/100\n",
      "155/155 [==============================] - 18s 117ms/step - loss: 0.0772 - accuracy: 0.9814 - val_loss: 0.0096 - val_accuracy: 0.9969\n",
      "Epoch 81/100\n",
      "155/155 [==============================] - 19s 121ms/step - loss: 0.0808 - accuracy: 0.9742 - val_loss: 0.0343 - val_accuracy: 0.9939\n",
      "Epoch 82/100\n",
      "155/155 [==============================] - 21s 134ms/step - loss: 0.0152 - accuracy: 0.9960 - val_loss: 0.0065 - val_accuracy: 0.9969\n",
      "Epoch 83/100\n",
      "155/155 [==============================] - 18s 116ms/step - loss: 0.0190 - accuracy: 0.9927 - val_loss: 0.0011 - val_accuracy: 1.0000\n",
      "Epoch 84/100\n",
      "155/155 [==============================] - 21s 135ms/step - loss: 0.0062 - accuracy: 0.9976 - val_loss: 0.0024 - val_accuracy: 1.0000\n",
      "Epoch 85/100\n",
      "155/155 [==============================] - 19s 119ms/step - loss: 0.0067 - accuracy: 0.9968 - val_loss: 0.0034 - val_accuracy: 0.9969\n",
      "Epoch 86/100\n",
      "155/155 [==============================] - 18s 118ms/step - loss: 0.0336 - accuracy: 0.9903 - val_loss: 0.0123 - val_accuracy: 0.9939\n",
      "Epoch 87/100\n",
      "155/155 [==============================] - 17s 106ms/step - loss: 0.0133 - accuracy: 0.9943 - val_loss: 0.0176 - val_accuracy: 0.9939\n",
      "Epoch 88/100\n",
      "155/155 [==============================] - 19s 124ms/step - loss: 0.0574 - accuracy: 0.9830 - val_loss: 0.0042 - val_accuracy: 1.0000\n",
      "Epoch 89/100\n",
      "155/155 [==============================] - 18s 118ms/step - loss: 0.0309 - accuracy: 0.9911 - val_loss: 0.0020 - val_accuracy: 1.0000\n",
      "Epoch 90/100\n",
      "155/155 [==============================] - 19s 120ms/step - loss: 0.0108 - accuracy: 0.9960 - val_loss: 5.5445e-04 - val_accuracy: 1.0000\n",
      "Epoch 91/100\n",
      "155/155 [==============================] - 19s 125ms/step - loss: 0.0078 - accuracy: 0.9968 - val_loss: 0.0023 - val_accuracy: 1.0000\n",
      "Epoch 92/100\n",
      "155/155 [==============================] - 19s 121ms/step - loss: 0.0167 - accuracy: 0.9968 - val_loss: 0.0020 - val_accuracy: 1.0000\n",
      "Epoch 93/100\n",
      "155/155 [==============================] - 19s 124ms/step - loss: 0.0478 - accuracy: 0.9863 - val_loss: 0.0188 - val_accuracy: 0.9877\n",
      "Epoch 94/100\n",
      "155/155 [==============================] - 19s 125ms/step - loss: 0.0412 - accuracy: 0.9871 - val_loss: 0.0087 - val_accuracy: 0.9969\n",
      "Epoch 95/100\n",
      "155/155 [==============================] - 19s 121ms/step - loss: 0.0239 - accuracy: 0.9919 - val_loss: 0.0049 - val_accuracy: 0.9969\n",
      "Epoch 96/100\n",
      "155/155 [==============================] - 19s 123ms/step - loss: 0.0137 - accuracy: 0.9943 - val_loss: 0.0034 - val_accuracy: 1.0000\n",
      "Epoch 97/100\n",
      "155/155 [==============================] - 20s 126ms/step - loss: 0.0356 - accuracy: 0.9903 - val_loss: 0.2548 - val_accuracy: 0.9632\n",
      "Epoch 98/100\n",
      "155/155 [==============================] - 19s 124ms/step - loss: 0.0520 - accuracy: 0.9855 - val_loss: 0.0069 - val_accuracy: 0.9969\n",
      "Epoch 99/100\n",
      "155/155 [==============================] - 20s 127ms/step - loss: 0.0082 - accuracy: 0.9968 - val_loss: 0.0019 - val_accuracy: 1.0000\n",
      "Epoch 100/100\n",
      "155/155 [==============================] - 20s 128ms/step - loss: 0.0050 - accuracy: 0.9976 - val_loss: 0.0022 - val_accuracy: 1.0000\n"
     ]
    },
    {
     "data": {
      "text/plain": "<keras.callbacks.History at 0x200f2b81810>"
     },
     "execution_count": 43,
     "metadata": {},
     "output_type": "execute_result"
    }
   ],
   "source": [
    "#Fitting\n",
    "TunedModel.fit(Training,batch_size=8,validation_data=Testing,epochs=100)"
   ],
   "metadata": {
    "collapsed": false,
    "ExecuteTime": {
     "end_time": "2023-06-01T06:18:43.440969300Z",
     "start_time": "2023-06-01T05:47:38.199680600Z"
    }
   }
  },
  {
   "cell_type": "code",
   "execution_count": 44,
   "outputs": [],
   "source": [
    "TunedModel.save('TunedModel.h5')"
   ],
   "metadata": {
    "collapsed": false,
    "ExecuteTime": {
     "end_time": "2023-06-01T06:18:47.270917Z",
     "start_time": "2023-06-01T06:18:46.979759600Z"
    }
   }
  },
  {
   "cell_type": "code",
   "execution_count": 47,
   "outputs": [
    {
     "name": "stdout",
     "output_type": "stream",
     "text": [
      "1/1 [==============================] - 0s 30ms/step\n",
      "1/1 [==============================] - 0s 32ms/step\n",
      "1/1 [==============================] - 0s 30ms/step\n",
      "1/1 [==============================] - 0s 27ms/step\n"
     ]
    }
   ],
   "source": [
    "Values=[]\n",
    "for i in range(len(Images)):\n",
    "    Values.append(TunedModel.predict(Images[i]))"
   ],
   "metadata": {
    "collapsed": false,
    "ExecuteTime": {
     "end_time": "2023-06-01T06:23:15.956236800Z",
     "start_time": "2023-06-01T06:23:15.717706400Z"
    }
   }
  },
  {
   "cell_type": "code",
   "execution_count": 50,
   "outputs": [
    {
     "name": "stdout",
     "output_type": "stream",
     "text": [
      "Elephant Bear\n",
      "Crow Crow\n",
      "Elephant Elephant\n",
      "Rat Rat\n"
     ]
    }
   ],
   "source": [
    "#The Predictions Were\n",
    "for i in range(len(Values)):\n",
    "    Output=['Bear','Crow','Elephant','Rat']\n",
    "    print(Output[np.argmax(Values[i])],Output[i])"
   ],
   "metadata": {
    "collapsed": false,
    "ExecuteTime": {
     "end_time": "2023-06-01T06:25:26.115805300Z",
     "start_time": "2023-06-01T06:25:26.105574200Z"
    }
   }
  },
  {
   "cell_type": "code",
   "execution_count": null,
   "outputs": [],
   "source": [
    "# So We Could See 3 Are Predicted Correctly But One Elephant Is Predicted Wrong as Bear Which Can Be Done In The Next Upcoming Model"
   ],
   "metadata": {
    "collapsed": false
   }
  }
 ],
 "metadata": {
  "kernelspec": {
   "display_name": "Python 3",
   "language": "python",
   "name": "python3"
  },
  "language_info": {
   "codemirror_mode": {
    "name": "ipython",
    "version": 2
   },
   "file_extension": ".py",
   "mimetype": "text/x-python",
   "name": "python",
   "nbconvert_exporter": "python",
   "pygments_lexer": "ipython2",
   "version": "2.7.6"
  }
 },
 "nbformat": 4,
 "nbformat_minor": 0
}
