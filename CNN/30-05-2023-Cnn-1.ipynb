{
 "cells": [
  {
   "cell_type": "code",
   "execution_count": 17,
   "metadata": {
    "id": "T7zIov7yDr63",
    "ExecuteTime": {
     "end_time": "2023-05-31T12:43:14.789243400Z",
     "start_time": "2023-05-31T12:43:14.667718200Z"
    }
   },
   "outputs": [],
   "source": [
    "#Practical Implementation of CNN\n",
    "#Number of Layers in CNN-4Layers\n",
    "#Convolutional,Pooling,Flatten Layer,Fully Connected Layer"
   ]
  },
  {
   "cell_type": "code",
   "execution_count": 18,
   "metadata": {
    "id": "msEqOWgGDr65",
    "ExecuteTime": {
     "end_time": "2023-05-31T12:43:14.790256500Z",
     "start_time": "2023-05-31T12:43:14.679771500Z"
    }
   },
   "outputs": [],
   "source": [
    "#In Convolution and Pooling Dimensionality Reduction Will Happen,These are Also Known as \n",
    "#Feature Extraction Layers,Then Flatten,Then Fully Connected Layer(Normal ANN)"
   ]
  },
  {
   "cell_type": "code",
   "execution_count": 19,
   "metadata": {
    "id": "OykW3tQwDr66",
    "ExecuteTime": {
     "end_time": "2023-05-31T12:43:14.902779700Z",
     "start_time": "2023-05-31T12:43:14.686794600Z"
    }
   },
   "outputs": [],
   "source": [
    "#ANN Only Accept Vector(Fully Connected Layer) To Convert Matrix to Vector"
   ]
  },
  {
   "cell_type": "code",
   "execution_count": 20,
   "metadata": {
    "id": "Zlj3vJ1jDr66",
    "ExecuteTime": {
     "end_time": "2023-05-31T12:43:14.902779700Z",
     "start_time": "2023-05-31T12:43:14.698347700Z"
    }
   },
   "outputs": [],
   "source": [
    "#Classes Should In the Name of Folders"
   ]
  },
  {
   "cell_type": "code",
   "execution_count": 21,
   "metadata": {
    "id": "b3ZLp4wqDr66",
    "ExecuteTime": {
     "end_time": "2023-05-31T12:43:14.903783200Z",
     "start_time": "2023-05-31T12:43:14.712352300Z"
    }
   },
   "outputs": [],
   "source": [
    "#Inside Each Folder It Should Have Only Image of that Specific Class"
   ]
  },
  {
   "cell_type": "code",
   "execution_count": 22,
   "metadata": {
    "id": "kiGeKHq4Dr66",
    "ExecuteTime": {
     "end_time": "2023-05-31T12:43:14.903783200Z",
     "start_time": "2023-05-31T12:43:14.725436500Z"
    }
   },
   "outputs": [],
   "source": [
    "#Importing Libraries"
   ]
  },
  {
   "cell_type": "code",
   "execution_count": 23,
   "metadata": {
    "id": "mecdpf6iDr67",
    "ExecuteTime": {
     "end_time": "2023-05-31T12:43:14.904784Z",
     "start_time": "2023-05-31T12:43:14.739345900Z"
    }
   },
   "outputs": [],
   "source": [
    "#Time Complexity is Only The Constraint"
   ]
  },
  {
   "cell_type": "code",
   "execution_count": 24,
   "metadata": {
    "id": "mLspA-D2Dr67",
    "ExecuteTime": {
     "end_time": "2023-05-31T12:43:14.904784Z",
     "start_time": "2023-05-31T12:43:14.754282200Z"
    }
   },
   "outputs": [],
   "source": [
    "#Training and Testing Folders Must Have The Same No of Class(Folders)  in Both of the Folders"
   ]
  },
  {
   "cell_type": "code",
   "execution_count": 25,
   "metadata": {
    "id": "8CNVayL3Dr67",
    "ExecuteTime": {
     "end_time": "2023-05-31T12:43:14.905786400Z",
     "start_time": "2023-05-31T12:43:14.769038500Z"
    }
   },
   "outputs": [],
   "source": [
    "#How Can We Tune the Model in Next Session"
   ]
  },
  {
   "cell_type": "code",
   "execution_count": 26,
   "metadata": {
    "id": "-TPFWQ72Dr67",
    "ExecuteTime": {
     "end_time": "2023-05-31T12:43:14.906781700Z",
     "start_time": "2023-05-31T12:43:14.781737800Z"
    }
   },
   "outputs": [],
   "source": [
    "#Building the Model From Scratch is Taught Today"
   ]
  },
  {
   "cell_type": "code",
   "execution_count": 27,
   "metadata": {
    "id": "DrzaRvU3Dr67",
    "ExecuteTime": {
     "end_time": "2023-05-31T12:43:14.906781700Z",
     "start_time": "2023-05-31T12:43:14.792267600Z"
    }
   },
   "outputs": [],
   "source": [
    "#Data Augmentation-Converting One Image into Multiple Image(But Why? A Question TO Ponder)\n",
    "#Zoom The Image and Takes a Copy and In a ANgle it WIll Rotate or Flip the Image\n",
    "#Converting the X Images into An Approximate of 100X Images\n",
    "#Extracting More Features of the Image"
   ]
  },
  {
   "cell_type": "code",
   "execution_count": 28,
   "metadata": {
    "id": "TbW_pB68Dr67",
    "ExecuteTime": {
     "end_time": "2023-05-31T12:43:14.906781700Z",
     "start_time": "2023-05-31T12:43:14.804786600Z"
    }
   },
   "outputs": [],
   "source": [
    "#Code For Data Augmentation"
   ]
  },
  {
   "cell_type": "code",
   "execution_count": 29,
   "metadata": {
    "id": "BGBJ-kUIDr67",
    "ExecuteTime": {
     "end_time": "2023-05-31T12:43:14.907781400Z",
     "start_time": "2023-05-31T12:43:14.814347Z"
    }
   },
   "outputs": [],
   "source": [
    "#Importing Libraries\n",
    "from tensorflow.keras.preprocessing.image import ImageDataGenerator"
   ]
  },
  {
   "cell_type": "code",
   "execution_count": 30,
   "metadata": {
    "id": "X2uIwGKHDr68",
    "ExecuteTime": {
     "end_time": "2023-05-31T12:43:14.907781400Z",
     "start_time": "2023-05-31T12:43:14.824853700Z"
    }
   },
   "outputs": [],
   "source": [
    "#Rescale=To Normalize the Data To get Values in Decimal Form THerefore the Scale is Reduced\n",
    "#A Quick Execution Can Be Seen Due to Lags So Rescale is Used\n",
    "#Horizontal_flip By Default False Making it into True\n",
    "#This is For Normalization of Pixels(Intutively a Pattern)\n",
    "#Shear_range-Giving 0.2 Little Bit Shear\n",
    "Train_Gen=ImageDataGenerator(rescale=(1./255),horizontal_flip=True,shear_range=0.2)\n",
    "#For Testing U Could Use Only Rescale For Training We Need to DO Polishing But In Realtime We Need To Test OUr Model\n",
    "#To Real-World Situations A New Challenges to the Model So For Training We need to Do SOme Needful Tasks to Train Our Model \n",
    "#Like a Child, Since the Values for the Model isn't Passed\n",
    "Test_Gen=ImageDataGenerator(rescale=(1./255))\n",
    "#Shear and OTher In Train Are Specified to Observe the More Variation's in the Image"
   ]
  },
  {
   "cell_type": "code",
   "execution_count": 31,
   "metadata": {
    "colab": {
     "base_uri": "https://localhost:8080/"
    },
    "id": "Hp9TNg0fDr68",
    "outputId": "f190865c-fcb0-4332-9055-6065756b0058",
    "ExecuteTime": {
     "end_time": "2023-05-31T12:43:15.044023500Z",
     "start_time": "2023-05-31T12:43:14.836275100Z"
    }
   },
   "outputs": [
    {
     "name": "stdout",
     "output_type": "stream",
     "text": [
      "Found 1238 images belonging to 4 classes.\n",
      "Found 326 images belonging to 4 classes.\n"
     ]
    }
   ],
   "source": [
    "#We Are Creating Another Train and Test\n",
    "#So Using train_gen.flow_from_directory('Path to File',target_size=(120,120))\n",
    "#To Run the Code Quickly We Make Target Size Small\n",
    "#So We Need to Give Class_Mode='Categorical' and Specify batch_Size=any Number\n",
    "#------------------------------------------------------------------------------------------\n",
    "\n",
    "##Train=Train_Gen.flow_from_directory('/content/Animal_Dataset/dataset/Training',target_size=(120,120),class_mode='categorical',batch_size=8)#Colab-Version\n",
    "##Test=Test_Gen.flow_from_directory('/content/Animal_Dataset/dataset/Testing',target_size=(120,120),class_mode='categorical',batch_size=8)#Colab-Version\n",
    "\n",
    "#---------------------------------------------------------------------------------------------------------\n",
    "Train=Train_Gen.flow_from_directory('Animal_Dataset/dataset/Training',target_size=(120,120),class_mode='categorical',batch_size=8)#My PC\n",
    "Test=Test_Gen.flow_from_directory('Animal_Dataset/dataset/Testing',target_size=(120,120),class_mode='categorical',batch_size=8)#My PC\n",
    "#-------------------------------------------------------------------------------------------------------------------\n",
    "#When You Are Building a Model Ur Model Will Train For Training Target_Size Pixels\n",
    "#Only So While Testing the Same Type of Image Targets Only Gets Validated Others May Result in Error"
   ]
  },
  {
   "cell_type": "code",
   "execution_count": 32,
   "metadata": {
    "id": "BHAbl8EoDr68",
    "ExecuteTime": {
     "end_time": "2023-05-31T12:43:15.075996200Z",
     "start_time": "2023-05-31T12:43:14.945496400Z"
    }
   },
   "outputs": [],
   "source": [
    "#Images are Converted into (120,120)\n",
    "#class_mode Checks How Many Folders Found and the No of Total Images\n",
    "#No Rule to Follow Data Augmentation TO Build a CNN Model So as to get Better Accuracy We Need to Perform it"
   ]
  },
  {
   "cell_type": "code",
   "execution_count": 33,
   "metadata": {
    "id": "_lLMl6fwDr69",
    "ExecuteTime": {
     "end_time": "2023-05-31T12:43:15.082845700Z",
     "start_time": "2023-05-31T12:43:14.953566100Z"
    }
   },
   "outputs": [],
   "source": [
    "#Building Model\n",
    "#Pixel Has 0,255 The Output of Rescale Does is Converting Them to (0,1)"
   ]
  },
  {
   "cell_type": "code",
   "execution_count": 34,
   "metadata": {
    "id": "n2Dzq0gaDr69",
    "ExecuteTime": {
     "end_time": "2023-05-31T12:43:15.083848600Z",
     "start_time": "2023-05-31T12:43:14.968174800Z"
    }
   },
   "outputs": [],
   "source": [
    "#Importing CNN Requirements\n",
    "from tensorflow.keras.layers import Convolution2D,MaxPooling2D,Flatten,Dense\n",
    "from tensorflow.keras.models import Sequential"
   ]
  },
  {
   "cell_type": "code",
   "execution_count": 35,
   "metadata": {
    "id": "hhz36jcZDr69",
    "ExecuteTime": {
     "end_time": "2023-05-31T12:43:15.151152400Z",
     "start_time": "2023-05-31T12:43:14.981873900Z"
    }
   },
   "outputs": [],
   "source": [
    "#Building Sequential\n",
    "Model=Sequential()"
   ]
  },
  {
   "cell_type": "code",
   "execution_count": 36,
   "metadata": {
    "id": "UKiWqu4ODr69",
    "ExecuteTime": {
     "end_time": "2023-05-31T12:43:15.245181600Z",
     "start_time": "2023-05-31T12:43:15.123193500Z"
    }
   },
   "outputs": [],
   "source": [
    "#Giving Convolutional Layer\n",
    "#In Convolution2D We Need to Pass Filters,Kernel_Size=Which is Dimension of Filter(3X3),ActivationFunction\n",
    "#Input_dim If Colour=RGB(3 Layer Channel) If GrayScale=1\n",
    "Model.add(Convolution2D(filters=20,kernel_size=(3,3),activation='relu',input_shape=(120,120,3)))"
   ]
  },
  {
   "cell_type": "code",
   "execution_count": 37,
   "metadata": {
    "id": "JM7OGww_Dr69",
    "ExecuteTime": {
     "end_time": "2023-05-31T12:43:15.260067600Z",
     "start_time": "2023-05-31T12:43:15.202097100Z"
    }
   },
   "outputs": [],
   "source": [
    "#Pooling Layer Pool Size is 2X2 Mentioned as pool_size\n",
    "Model.add(MaxPooling2D(pool_size=(2,2)))"
   ]
  },
  {
   "cell_type": "code",
   "execution_count": 38,
   "metadata": {
    "id": "a07PZQMqDr69",
    "ExecuteTime": {
     "end_time": "2023-05-31T12:43:15.283375700Z",
     "start_time": "2023-05-31T12:43:15.228774400Z"
    }
   },
   "outputs": [],
   "source": [
    "#Flatten Layer\n",
    "#The OUtput of the Matrix is Converted into Vector\n",
    "Model.add(Flatten())"
   ]
  },
  {
   "cell_type": "code",
   "execution_count": 39,
   "metadata": {
    "id": "ZU8U6TAkDr69",
    "ExecuteTime": {
     "end_time": "2023-05-31T12:43:15.337780Z",
     "start_time": "2023-05-31T12:43:15.244188500Z"
    }
   },
   "outputs": [],
   "source": [
    "#The ANN Dense Layers\n",
    "Model.add(Dense(45,activation='relu'))\n",
    "Model.add(Dense(4,activation='softmax'))"
   ]
  },
  {
   "cell_type": "code",
   "execution_count": 40,
   "metadata": {
    "colab": {
     "base_uri": "https://localhost:8080/"
    },
    "id": "4EQXBEZoDr6-",
    "outputId": "2b5108af-14b0-42bd-8df4-c73fea242840",
    "ExecuteTime": {
     "end_time": "2023-05-31T12:43:15.351825300Z",
     "start_time": "2023-05-31T12:43:15.344306Z"
    }
   },
   "outputs": [
    {
     "data": {
      "text/plain": "{'bears': 0, 'crows': 1, 'elephants': 2, 'rats': 3}"
     },
     "execution_count": 40,
     "metadata": {},
     "output_type": "execute_result"
    }
   ],
   "source": [
    "Train.class_indices"
   ]
  },
  {
   "cell_type": "code",
   "execution_count": 41,
   "metadata": {
    "id": "TNZro9XyDr6-",
    "ExecuteTime": {
     "end_time": "2023-05-31T12:43:15.415176300Z",
     "start_time": "2023-05-31T12:43:15.350824400Z"
    }
   },
   "outputs": [],
   "source": [
    "#Compiling the Model\n",
    "Model.compile(optimizer='adam',loss='categorical_crossentropy',metrics=['accuracy'])"
   ]
  },
  {
   "cell_type": "code",
   "execution_count": 42,
   "metadata": {
    "colab": {
     "base_uri": "https://localhost:8080/"
    },
    "id": "RkpkcjwwDr6-",
    "outputId": "985fa53c-ec5c-4edd-c372-e22d70d60934",
    "ExecuteTime": {
     "end_time": "2023-05-31T12:46:53.760063900Z",
     "start_time": "2023-05-31T12:43:15.374732100Z"
    }
   },
   "outputs": [
    {
     "name": "stdout",
     "output_type": "stream",
     "text": [
      "Epoch 1/10\n",
      "155/155 [==============================] - 27s 169ms/step - loss: 1.3780 - accuracy: 0.5735 - val_loss: 0.5930 - val_accuracy: 0.7791\n",
      "Epoch 2/10\n",
      "155/155 [==============================] - 27s 171ms/step - loss: 0.5376 - accuracy: 0.8263 - val_loss: 0.2800 - val_accuracy: 0.9356\n",
      "Epoch 3/10\n",
      "155/155 [==============================] - 27s 173ms/step - loss: 0.3194 - accuracy: 0.9136 - val_loss: 0.1387 - val_accuracy: 0.9816\n",
      "Epoch 4/10\n",
      "155/155 [==============================] - 26s 167ms/step - loss: 0.1769 - accuracy: 0.9515 - val_loss: 0.1657 - val_accuracy: 0.9448\n",
      "Epoch 5/10\n",
      "155/155 [==============================] - 19s 124ms/step - loss: 0.1047 - accuracy: 0.9782 - val_loss: 0.1367 - val_accuracy: 0.9479\n",
      "Epoch 6/10\n",
      "155/155 [==============================] - 18s 117ms/step - loss: 0.0970 - accuracy: 0.9806 - val_loss: 0.0383 - val_accuracy: 0.9969\n",
      "Epoch 7/10\n",
      "155/155 [==============================] - 18s 118ms/step - loss: 0.0922 - accuracy: 0.9782 - val_loss: 0.0108 - val_accuracy: 1.0000\n",
      "Epoch 8/10\n",
      "155/155 [==============================] - 19s 120ms/step - loss: 0.0442 - accuracy: 0.9927 - val_loss: 0.0469 - val_accuracy: 0.9908\n",
      "Epoch 9/10\n",
      "155/155 [==============================] - 18s 116ms/step - loss: 0.0498 - accuracy: 0.9903 - val_loss: 0.0404 - val_accuracy: 0.9939\n",
      "Epoch 10/10\n",
      "155/155 [==============================] - 19s 122ms/step - loss: 0.0317 - accuracy: 0.9935 - val_loss: 0.0508 - val_accuracy: 0.9969\n"
     ]
    },
    {
     "data": {
      "text/plain": "<keras.callbacks.History at 0x298445ea990>"
     },
     "execution_count": 42,
     "metadata": {},
     "output_type": "execute_result"
    }
   ],
   "source": [
    "#Training The Model\n",
    "Model.fit(Train,batch_size=8,validation_data=Test,epochs=10)"
   ]
  },
  {
   "cell_type": "code",
   "execution_count": 53,
   "metadata": {
    "id": "7vcCb7SODr6-",
    "ExecuteTime": {
     "end_time": "2023-05-31T12:47:12.464593700Z",
     "start_time": "2023-05-31T12:47:12.392364900Z"
    }
   },
   "outputs": [],
   "source": [
    "#TensorFLow Files On .h5 Extension\n",
    "#Since Each Run-Time Takes More than 10 Minutes So We Can Save That using \n",
    "#This Command Model.save('AnyName.h5')\n",
    "Model.save('animalWeights.h5')"
   ]
  },
  {
   "cell_type": "code",
   "execution_count": 1,
   "metadata": {
    "id": "AEFsq6eEDr6-",
    "ExecuteTime": {
     "end_time": "2023-05-31T15:02:40.695691200Z",
     "start_time": "2023-05-31T15:02:37.303439400Z"
    }
   },
   "outputs": [],
   "source": [
    "#Testing\n",
    "#Importing Testing Libraries\n",
    "import numpy as np\n",
    "image.load_img('Crow.jpg',target_size=(120,120))"
   ]
  },
  {
   "cell_type": "code",
   "execution_count": 65,
   "metadata": {
    "id": "Y9iKJAjKDr6-",
    "ExecuteTime": {
     "end_time": "2023-05-31T12:48:43.884382100Z",
     "start_time": "2023-05-31T12:48:43.870105900Z"
    }
   },
   "outputs": [],
   "source": [
    "#Download ANy Image And Test IT Eg Elephant Image(Any Random One)\n",
    "#If Target Size isnt Specified Then No Output Because ANy Random Image Will Have ANy Dimension\n",
    "#--------------------------------------------------------------------------\n",
    "# img=image.load_img('/content/Crow.jpg',target_size=(120,120))(Colab-Version)\n",
    "#-----------------------------------------------------------------------------------\n",
    "img=image.load_img('Rats.jpg',target_size=(120,120))"
   ]
  },
  {
   "cell_type": "code",
   "execution_count": 66,
   "metadata": {
    "colab": {
     "base_uri": "https://localhost:8080/",
     "height": 137
    },
    "id": "04D8vtYGDr6-",
    "outputId": "50688a15-7448-4c9d-a9db-01b48bf50ab3",
    "ExecuteTime": {
     "end_time": "2023-05-31T12:48:46.899931Z",
     "start_time": "2023-05-31T12:48:46.851371300Z"
    }
   },
   "outputs": [
    {
     "data": {
      "text/plain": "<PIL.Image.Image image mode=RGB size=120x120>",
      "image/png": "[encoded data removed]"
     },
     "execution_count": 66,
     "metadata": {},
     "output_type": "execute_result"
    }
   ],
   "source": [
    "img"
   ]
  },
  {
   "cell_type": "code",
   "execution_count": 67,
   "metadata": {
    "colab": {
     "base_uri": "https://localhost:8080/"
    },
    "id": "TsaqnZkuDr6-",
    "outputId": "4928d66a-88bf-48c0-8d20-2b8ca1345d8c",
    "ExecuteTime": {
     "end_time": "2023-05-31T12:48:47.536454700Z",
     "start_time": "2023-05-31T12:48:47.514375900Z"
    }
   },
   "outputs": [
    {
     "data": {
      "text/plain": "array([[[190., 215., 160.],\n        [188., 207., 162.],\n        [177., 186., 155.],\n        ...,\n        [196., 202., 140.],\n        [201., 209., 132.],\n        [190., 202., 128.]],\n\n       [[178., 203., 145.],\n        [177., 197., 148.],\n        [168., 178., 143.],\n        ...,\n        [181., 186., 130.],\n        [177., 184., 114.],\n        [177., 187., 116.]],\n\n       [[165., 190., 122.],\n        [164., 186., 124.],\n        [158., 169., 126.],\n        ...,\n        [174., 177., 132.],\n        [178., 184., 124.],\n        [162., 169., 101.]],\n\n       ...,\n\n       [[104., 141.,  36.],\n        [183., 217., 122.],\n        [110., 138.,  61.],\n        ...,\n        [167., 197.,  83.],\n        [144., 168.,  72.],\n        [134., 163.,  71.]],\n\n       [[115., 153.,  44.],\n        [181., 219., 116.],\n        [124., 165.,  73.],\n        ...,\n        [170., 196.,  95.],\n        [ 97., 109.,  23.],\n        [155., 178.,  88.]],\n\n       [[ 83., 122.,  16.],\n        [ 93., 133.,  34.],\n        [150., 191.,  99.],\n        ...,\n        [ 74.,  90.,  17.],\n        [ 90., 106.,  31.],\n        [128., 151.,  61.]]], dtype=float32)"
     },
     "execution_count": 67,
     "metadata": {},
     "output_type": "execute_result"
    }
   ],
   "source": [
    "img = image.img_to_array(img)\n",
    "img"
   ]
  },
  {
   "cell_type": "code",
   "execution_count": 68,
   "metadata": {
    "colab": {
     "base_uri": "https://localhost:8080/"
    },
    "id": "fZOGw2gNDr6_",
    "outputId": "1d06db28-9cb5-462b-eea8-77ec4109d3d1",
    "ExecuteTime": {
     "end_time": "2023-05-31T12:48:48.054888200Z",
     "start_time": "2023-05-31T12:48:48.044254300Z"
    }
   },
   "outputs": [
    {
     "data": {
      "text/plain": "array([[[[190., 215., 160.],\n         [188., 207., 162.],\n         [177., 186., 155.],\n         ...,\n         [196., 202., 140.],\n         [201., 209., 132.],\n         [190., 202., 128.]],\n\n        [[178., 203., 145.],\n         [177., 197., 148.],\n         [168., 178., 143.],\n         ...,\n         [181., 186., 130.],\n         [177., 184., 114.],\n         [177., 187., 116.]],\n\n        [[165., 190., 122.],\n         [164., 186., 124.],\n         [158., 169., 126.],\n         ...,\n         [174., 177., 132.],\n         [178., 184., 124.],\n         [162., 169., 101.]],\n\n        ...,\n\n        [[104., 141.,  36.],\n         [183., 217., 122.],\n         [110., 138.,  61.],\n         ...,\n         [167., 197.,  83.],\n         [144., 168.,  72.],\n         [134., 163.,  71.]],\n\n        [[115., 153.,  44.],\n         [181., 219., 116.],\n         [124., 165.,  73.],\n         ...,\n         [170., 196.,  95.],\n         [ 97., 109.,  23.],\n         [155., 178.,  88.]],\n\n        [[ 83., 122.,  16.],\n         [ 93., 133.,  34.],\n         [150., 191.,  99.],\n         ...,\n         [ 74.,  90.,  17.],\n         [ 90., 106.,  31.],\n         [128., 151.,  61.]]]], dtype=float32)"
     },
     "execution_count": 68,
     "metadata": {},
     "output_type": "execute_result"
    }
   ],
   "source": [
    "img=np.expand_dims(img,axis=0)#On Which Axis Dimension Must Be Increased\n",
    "img#If We Chcek The Output Previously 2 Channels and After the Above Command The Image Is Expanded\n",
    "#to Three Channels SO RGB Version\n",
    "#Axis =0 Because CNN Model Accepts this Kind of Dimension ?\n",
    "#Convolution and MaxPooling The OUtput is in the Form of 3Dimension/Multimdimensional Array SO Expand Dimension is Used ON Axis=0"
   ]
  },
  {
   "cell_type": "code",
   "execution_count": 69,
   "metadata": {
    "colab": {
     "base_uri": "https://localhost:8080/"
    },
    "id": "vBfDS1ffDr6_",
    "outputId": "b8910994-5bfc-4639-9ae5-d18de4dbfe82",
    "ExecuteTime": {
     "end_time": "2023-05-31T12:48:48.615260900Z",
     "start_time": "2023-05-31T12:48:48.500342500Z"
    }
   },
   "outputs": [
    {
     "name": "stdout",
     "output_type": "stream",
     "text": [
      "1/1 [==============================] - 0s 45ms/step\n"
     ]
    }
   ],
   "source": [
    "Val=Model.predict(img)\n",
    "#Np.argmax(Model.predict(img)) Will Give the Index Number SO Cross Check WIth Cross_indices"
   ]
  },
  {
   "cell_type": "code",
   "execution_count": 70,
   "metadata": {
    "colab": {
     "base_uri": "https://localhost:8080/"
    },
    "id": "di6wWNazGKp6",
    "outputId": "2394b14e-ad0c-48bb-81dd-cda3c470256a",
    "ExecuteTime": {
     "end_time": "2023-05-31T12:48:49.591984600Z",
     "start_time": "2023-05-31T12:48:49.581246200Z"
    }
   },
   "outputs": [
    {
     "data": {
      "text/plain": "array([[0., 0., 1., 0.]], dtype=float32)"
     },
     "execution_count": 70,
     "metadata": {},
     "output_type": "execute_result"
    }
   ],
   "source": [
    "Val"
   ]
  },
  {
   "cell_type": "code",
   "execution_count": 71,
   "metadata": {
    "colab": {
     "base_uri": "https://localhost:8080/"
    },
    "id": "yF3tkAoAGHMb",
    "outputId": "f49b3cd1-6f85-4b16-e396-9c7c31633b56",
    "ExecuteTime": {
     "end_time": "2023-05-31T12:48:50.494296500Z",
     "start_time": "2023-05-31T12:48:50.461377500Z"
    }
   },
   "outputs": [
    {
     "data": {
      "text/plain": "2"
     },
     "execution_count": 71,
     "metadata": {},
     "output_type": "execute_result"
    }
   ],
   "source": [
    "np.argmax(Val)"
   ]
  },
  {
   "cell_type": "code",
   "execution_count": 64,
   "metadata": {
    "id": "FOY55yD6Dr6_",
    "ExecuteTime": {
     "end_time": "2023-05-31T12:48:22.055580100Z",
     "start_time": "2023-05-31T12:48:21.988034500Z"
    }
   },
   "outputs": [],
   "source": [
    "#Tommorow We Learn About Tuning Model"
   ]
  },
  {
   "cell_type": "code",
   "execution_count": null,
   "outputs": [],
   "source": [],
   "metadata": {
    "collapsed": false
   }
  }
 ],
 "metadata": {
  "accelerator": "GPU",
  "colab": {
   "gpuType": "T4",
   "provenance": []
  },
  "kernelspec": {
   "display_name": "Python 3 (ipykernel)",
   "language": "python",
   "name": "python3"
  },
  "language_info": {
   "codemirror_mode": {
    "name": "ipython",
    "version": 3
   },
   "file_extension": ".py",
   "mimetype": "text/x-python",
   "name": "python",
   "nbconvert_exporter": "python",
   "pygments_lexer": "ipython3",
   "version": "3.10.9"
  }
 },
 "nbformat": 4,
 "nbformat_minor": 4
}
