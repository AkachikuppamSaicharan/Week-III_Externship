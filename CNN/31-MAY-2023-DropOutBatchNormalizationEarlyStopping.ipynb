{
 "cells": [
  {
   "cell_type": "code",
   "execution_count": 98,
   "metadata": {
    "collapsed": true,
    "ExecuteTime": {
     "end_time": "2023-06-01T08:59:12.596155800Z",
     "start_time": "2023-06-01T08:59:12.541900Z"
    }
   },
   "outputs": [],
   "source": [
    "#Today We Will Learn About How to Tune the Cnn Models"
   ]
  },
  {
   "cell_type": "code",
   "execution_count": 99,
   "outputs": [],
   "source": [
    "#Increasing the Number of Convolutional Layers and Max Pooling Layers(And Increase Epoch and Decrease Batch Size)\n",
    "# If it Fails Then We Follow DropOut Batch Normalization and Early Stopping\n",
    "#If the Above Also Fails Use Keras Tuning"
   ],
   "metadata": {
    "collapsed": false,
    "ExecuteTime": {
     "end_time": "2023-06-01T08:59:12.596155800Z",
     "start_time": "2023-06-01T08:59:12.544958600Z"
    }
   }
  },
  {
   "cell_type": "code",
   "execution_count": 100,
   "outputs": [],
   "source": [
    "#Importing Libraries\n",
    "from keras.layers import Dropout,BatchNormalization"
   ],
   "metadata": {
    "collapsed": false,
    "ExecuteTime": {
     "end_time": "2023-06-01T08:59:12.647499600Z",
     "start_time": "2023-06-01T08:59:12.549463400Z"
    }
   }
  },
  {
   "cell_type": "code",
   "execution_count": 101,
   "outputs": [],
   "source": [
    "#Copy The Same Model-Layers From the Previous\n",
    "#After Convolutional Layer Use BatchNormalization Using Model.add(BatchNormalization())\n",
    "#After Pooling Layer Add DroupOutLayer()-On DroupOut Layer How many Percentage of Values Need to Be Dropped Give a Lowest Number Give 0.2 20% of Data is Dropped(Greater Value is Spoling Our Model)\n",
    "#Repeat this Until Multiple Time Until all Convolutional and MaxPooling2D Layers Complete\n",
    "#Even After Flatten Layer We Can Give Batch Normalization Before the ANN Also We Can Add It"
   ],
   "metadata": {
    "collapsed": false,
    "ExecuteTime": {
     "end_time": "2023-06-01T08:59:12.647499600Z",
     "start_time": "2023-06-01T08:59:12.560607800Z"
    }
   }
  },
  {
   "cell_type": "code",
   "execution_count": 102,
   "outputs": [],
   "source": [
    "#Here U Will Get the Parameters Shows Trainable and Non-Trainable The Non Trainable is Dropped(This is Unwanted 20% Data)"
   ],
   "metadata": {
    "collapsed": false,
    "ExecuteTime": {
     "end_time": "2023-06-01T08:59:12.647499600Z",
     "start_time": "2023-06-01T08:59:12.568664300Z"
    }
   }
  },
  {
   "cell_type": "code",
   "execution_count": 103,
   "outputs": [],
   "source": [
    "#Next Compile With Previous Model Command and Train it Eg 50 Epochs"
   ],
   "metadata": {
    "collapsed": false,
    "ExecuteTime": {
     "end_time": "2023-06-01T08:59:12.647499600Z",
     "start_time": "2023-06-01T08:59:12.578013900Z"
    }
   }
  },
  {
   "cell_type": "code",
   "execution_count": 104,
   "outputs": [],
   "source": [
    "#So in Fit We Give Another Parameter Called Callbacks Parameter By Default it is None\n",
    "#What We Must Do Is Callbacks=EarlyStopping\n",
    "#If For 50 Epochs if Our Model Stops at 30 Then Halt that"
   ],
   "metadata": {
    "collapsed": false,
    "ExecuteTime": {
     "end_time": "2023-06-01T08:59:12.647499600Z",
     "start_time": "2023-06-01T08:59:12.586689Z"
    }
   }
  },
  {
   "cell_type": "code",
   "execution_count": 105,
   "outputs": [],
   "source": [
    "#To Use Early Stopping\n",
    "#To Use Callbacks First Import it\n",
    "from keras.callbacks import EarlyStopping"
   ],
   "metadata": {
    "collapsed": false,
    "ExecuteTime": {
     "end_time": "2023-06-01T08:59:12.647499600Z",
     "start_time": "2023-06-01T08:59:12.596155800Z"
    }
   }
  },
  {
   "cell_type": "code",
   "execution_count": 106,
   "outputs": [],
   "source": [
    "#Create a Variable Like EarlyStopping and Initialize it With EarlyStopping()\n",
    "#EarlyStopping Will Have Monitor Which is given as 'val_loss',patience=0)\n",
    "#When You are Running the Epoch It Will Notice Each And Every Epoch an Notice the Validation_Accuracy\n",
    "#EarlyStopping Checks Whether the Validation_Accuracy is Increasing Or Not,So Until the Given Patience It Will Wait After the Patience Also Completes Then It Will Halt if The Val_Accuracy isn't INcreasing\n",
    "#Model.fit(train,batch_size=8,epochs=50,validation_data=test,callbacks=early_stop)\n",
    "#Same Fit Command With Call Back Defined as a Variable is Given To Work With Early Stop\n",
    "#At Which Point the Epoch Stops It Would Be With Nax Val_Accuracy\n",
    "#But Assurity that it is the Maximum_Accuracy  isnt Given Because After Some Other Epochs May Be The Accuracy Greater After the Patience Exceeds Also."
   ],
   "metadata": {
    "collapsed": false,
    "ExecuteTime": {
     "end_time": "2023-06-01T08:59:12.647499600Z",
     "start_time": "2023-06-01T08:59:12.608833Z"
    }
   }
  },
  {
   "cell_type": "code",
   "execution_count": 107,
   "outputs": [],
   "source": [
    "#IN Callbacks You Can Define Monitor to Check 'accuracy', and many other Factors are there to halt"
   ],
   "metadata": {
    "collapsed": false,
    "ExecuteTime": {
     "end_time": "2023-06-01T08:59:12.647499600Z",
     "start_time": "2023-06-01T08:59:12.614466100Z"
    }
   }
  },
  {
   "cell_type": "code",
   "execution_count": 108,
   "outputs": [],
   "source": [
    "#Projects Will Be Of CNN So We Must Understand The Tuning Well"
   ],
   "metadata": {
    "collapsed": false,
    "ExecuteTime": {
     "end_time": "2023-06-01T08:59:12.647499600Z",
     "start_time": "2023-06-01T08:59:12.624768800Z"
    }
   }
  },
  {
   "cell_type": "code",
   "execution_count": 109,
   "outputs": [],
   "source": [
    "#Reference From Colab For that Code"
   ],
   "metadata": {
    "collapsed": false,
    "ExecuteTime": {
     "end_time": "2023-06-01T08:59:12.647499600Z",
     "start_time": "2023-06-01T08:59:12.631667800Z"
    }
   }
  },
  {
   "cell_type": "code",
   "execution_count": 110,
   "outputs": [],
   "source": [
    "#CNN Playground"
   ],
   "metadata": {
    "collapsed": false,
    "ExecuteTime": {
     "end_time": "2023-06-01T08:59:12.647499600Z",
     "start_time": "2023-06-01T08:59:12.640625500Z"
    }
   }
  },
  {
   "cell_type": "code",
   "execution_count": 111,
   "outputs": [],
   "source": [
    "#Importing Libraries For Data Augmentation\n",
    "from keras.preprocessing.image import  ImageDataGenerator\n",
    "from keras.layers import Dense,Convolution2D,MaxPooling2D,Flatten,BatchNormalization,Dropout\n",
    "from keras.models import Sequential\n",
    "from keras.callbacks import EarlyStopping"
   ],
   "metadata": {
    "collapsed": false,
    "ExecuteTime": {
     "end_time": "2023-06-01T08:59:12.665469700Z",
     "start_time": "2023-06-01T08:59:12.647499600Z"
    }
   }
  },
  {
   "cell_type": "code",
   "execution_count": 112,
   "outputs": [],
   "source": [
    "#Creating Training and Testing Generators\n",
    "Training_Gen=ImageDataGenerator(rescale=(1./255),horizontal_flip=True,shear_range=0.2)\n",
    "Testing_Gen=ImageDataGenerator(rescale=(1./255))"
   ],
   "metadata": {
    "collapsed": false,
    "ExecuteTime": {
     "end_time": "2023-06-01T08:59:12.665469700Z",
     "start_time": "2023-06-01T08:59:12.656844900Z"
    }
   }
  },
  {
   "cell_type": "code",
   "execution_count": 113,
   "outputs": [
    {
     "name": "stdout",
     "output_type": "stream",
     "text": [
      "Found 1238 images belonging to 4 classes.\n",
      "Found 326 images belonging to 4 classes.\n"
     ]
    }
   ],
   "source": [
    "''#Importing Dataset\n",
    "Training=Training_Gen.flow_from_directory('Animal_Dataset/dataset/Training',target_size=(120,120),class_mode='categorical',batch_size=8)\n",
    "Testing=Testing_Gen.flow_from_directory('Animal_Dataset/dataset/Testing',target_size=(120,120),class_mode='categorical',batch_size=8)"
   ],
   "metadata": {
    "collapsed": false,
    "ExecuteTime": {
     "end_time": "2023-06-01T08:59:12.729060800Z",
     "start_time": "2023-06-01T08:59:12.665469700Z"
    }
   }
  },
  {
   "cell_type": "code",
   "execution_count": 114,
   "outputs": [],
   "source": [
    "#Creating Test Cases\n",
    "#Importing Libraries for Test Cases\n",
    "import numpy as np\n",
    "from tensorflow.keras.preprocessing import image\n",
    "Images=[image.load_img('Bear.jpg',target_size=(120,120)),image.load_img('Crow.jpg',target_size=(120,120)),image.load_img('Elephant.jpg',target_size=(120,120)),image.load_img('Rats.jpg',target_size=(120,120))]\n",
    "for i in range(len(Images)):\n",
    "    Images[i]=image.img_to_array(Images[i])\n",
    "    Images[i]=np.expand_dims(Images[i],axis=0)"
   ],
   "metadata": {
    "collapsed": false,
    "ExecuteTime": {
     "end_time": "2023-06-01T08:59:12.798356700Z",
     "start_time": "2023-06-01T08:59:12.729060800Z"
    }
   }
  },
  {
   "cell_type": "code",
   "execution_count": 115,
   "outputs": [],
   "source": [
    "early_stop = EarlyStopping(monitor='val_loss',patience=8)"
   ],
   "metadata": {
    "collapsed": false,
    "ExecuteTime": {
     "end_time": "2023-06-01T08:59:12.798356700Z",
     "start_time": "2023-06-01T08:59:12.751100600Z"
    }
   }
  },
  {
   "cell_type": "code",
   "execution_count": 116,
   "outputs": [],
   "source": [
    "#Creating a Tuning Model\n",
    "TunedModel=Sequential()"
   ],
   "metadata": {
    "collapsed": false,
    "ExecuteTime": {
     "end_time": "2023-06-01T08:59:12.798356700Z",
     "start_time": "2023-06-01T08:59:12.753768400Z"
    }
   }
  },
  {
   "cell_type": "code",
   "execution_count": 117,
   "outputs": [],
   "source": [
    "#Creating Layers\n",
    "#Set-I\n",
    "TunedModel.add(Convolution2D(filters=20,input_shape=(120,120,3),kernel_size=(3,3),activation='relu'))\n",
    "TunedModel.add(BatchNormalization())\n",
    "TunedModel.add(MaxPooling2D(pool_size=(2,2)))\n",
    "TunedModel.add(Dropout(0.2))"
   ],
   "metadata": {
    "collapsed": false,
    "ExecuteTime": {
     "end_time": "2023-06-01T08:59:12.798356700Z",
     "start_time": "2023-06-01T08:59:12.766599Z"
    }
   }
  },
  {
   "cell_type": "code",
   "execution_count": 118,
   "outputs": [],
   "source": [
    "#Creating Layers\n",
    "#Set-II\n",
    "TunedModel.add(Convolution2D(filters=40,kernel_size=(3,3),activation='relu'))\n",
    "TunedModel.add(BatchNormalization())\n",
    "TunedModel.add(MaxPooling2D(pool_size=(2,2)))\n",
    "TunedModel.add(Dropout(0.2))"
   ],
   "metadata": {
    "collapsed": false,
    "ExecuteTime": {
     "end_time": "2023-06-01T08:59:12.830076100Z",
     "start_time": "2023-06-01T08:59:12.798356700Z"
    }
   }
  },
  {
   "cell_type": "code",
   "execution_count": 119,
   "outputs": [],
   "source": [
    "#Creating Layers\n",
    "#Set-III\n",
    "TunedModel.add(Convolution2D(filters=80,kernel_size=(3,3),activation='relu'))\n",
    "TunedModel.add(BatchNormalization())\n",
    "TunedModel.add(MaxPooling2D(pool_size=(2,2)))\n",
    "TunedModel.add(Dropout(0.2))"
   ],
   "metadata": {
    "collapsed": false,
    "ExecuteTime": {
     "end_time": "2023-06-01T08:59:12.858059200Z",
     "start_time": "2023-06-01T08:59:12.830076100Z"
    }
   }
  },
  {
   "cell_type": "code",
   "execution_count": 120,
   "outputs": [],
   "source": [
    "#Creating Layers\n",
    "TunedModel.add(Flatten())\n",
    "TunedModel.add(Dense(60,activation='relu'))\n",
    "TunedModel.add(BatchNormalization())\n",
    "TunedModel.add(Dropout(0.1))\n",
    "TunedModel.add(Dense(30,activation='relu'))\n",
    "TunedModel.add(Dense(15,activation='relu'))\n",
    "TunedModel.add(Dense(4,activation='softmax'))"
   ],
   "metadata": {
    "collapsed": false,
    "ExecuteTime": {
     "end_time": "2023-06-01T08:59:12.920785900Z",
     "start_time": "2023-06-01T08:59:12.858059200Z"
    }
   }
  },
  {
   "cell_type": "code",
   "execution_count": 121,
   "outputs": [],
   "source": [
    "#Compiling Tuned Model\n",
    "TunedModel.compile(optimizer='adam',metrics=['accuracy'],loss='categorical_crossentropy')"
   ],
   "metadata": {
    "collapsed": false,
    "ExecuteTime": {
     "end_time": "2023-06-01T08:59:12.931296400Z",
     "start_time": "2023-06-01T08:59:12.924300500Z"
    }
   }
  },
  {
   "cell_type": "code",
   "execution_count": 122,
   "outputs": [
    {
     "name": "stdout",
     "output_type": "stream",
     "text": [
      "Model: \"sequential_4\"\n",
      "_________________________________________________________________\n",
      " Layer (type)                Output Shape              Param #   \n",
      "=================================================================\n",
      " conv2d_9 (Conv2D)           (None, 118, 118, 20)      560       \n",
      "                                                                 \n",
      " batch_normalization_12 (Bat  (None, 118, 118, 20)     80        \n",
      " chNormalization)                                                \n",
      "                                                                 \n",
      " max_pooling2d_9 (MaxPooling  (None, 59, 59, 20)       0         \n",
      " 2D)                                                             \n",
      "                                                                 \n",
      " dropout_12 (Dropout)        (None, 59, 59, 20)        0         \n",
      "                                                                 \n",
      " conv2d_10 (Conv2D)          (None, 57, 57, 40)        7240      \n",
      "                                                                 \n",
      " batch_normalization_13 (Bat  (None, 57, 57, 40)       160       \n",
      " chNormalization)                                                \n",
      "                                                                 \n",
      " max_pooling2d_10 (MaxPoolin  (None, 28, 28, 40)       0         \n",
      " g2D)                                                            \n",
      "                                                                 \n",
      " dropout_13 (Dropout)        (None, 28, 28, 40)        0         \n",
      "                                                                 \n",
      " conv2d_11 (Conv2D)          (None, 26, 26, 80)        28880     \n",
      "                                                                 \n",
      " batch_normalization_14 (Bat  (None, 26, 26, 80)       320       \n",
      " chNormalization)                                                \n",
      "                                                                 \n",
      " max_pooling2d_11 (MaxPoolin  (None, 13, 13, 80)       0         \n",
      " g2D)                                                            \n",
      "                                                                 \n",
      " dropout_14 (Dropout)        (None, 13, 13, 80)        0         \n",
      "                                                                 \n",
      " flatten_3 (Flatten)         (None, 13520)             0         \n",
      "                                                                 \n",
      " dense_12 (Dense)            (None, 60)                811260    \n",
      "                                                                 \n",
      " batch_normalization_15 (Bat  (None, 60)               240       \n",
      " chNormalization)                                                \n",
      "                                                                 \n",
      " dropout_15 (Dropout)        (None, 60)                0         \n",
      "                                                                 \n",
      " dense_13 (Dense)            (None, 30)                1830      \n",
      "                                                                 \n",
      " dense_14 (Dense)            (None, 15)                465       \n",
      "                                                                 \n",
      " dense_15 (Dense)            (None, 4)                 64        \n",
      "                                                                 \n",
      "=================================================================\n",
      "Total params: 851,099\n",
      "Trainable params: 850,699\n",
      "Non-trainable params: 400\n",
      "_________________________________________________________________\n"
     ]
    }
   ],
   "source": [
    "TunedModel.summary()"
   ],
   "metadata": {
    "collapsed": false,
    "ExecuteTime": {
     "end_time": "2023-06-01T08:59:12.991790300Z",
     "start_time": "2023-06-01T08:59:12.931296400Z"
    }
   }
  },
  {
   "cell_type": "code",
   "execution_count": 123,
   "outputs": [
    {
     "name": "stdout",
     "output_type": "stream",
     "text": [
      "Epoch 1/20\n",
      "155/155 [==============================] - 23s 142ms/step - loss: 1.1792 - accuracy: 0.4830 - val_loss: 4.7446 - val_accuracy: 0.2270\n",
      "Epoch 2/20\n",
      "155/155 [==============================] - 22s 145ms/step - loss: 0.9530 - accuracy: 0.6147 - val_loss: 2.9293 - val_accuracy: 0.3436\n",
      "Epoch 3/20\n",
      "155/155 [==============================] - 22s 144ms/step - loss: 0.8691 - accuracy: 0.6551 - val_loss: 0.9721 - val_accuracy: 0.5521\n",
      "Epoch 4/20\n",
      "155/155 [==============================] - 22s 143ms/step - loss: 0.8280 - accuracy: 0.6446 - val_loss: 1.4714 - val_accuracy: 0.3742\n",
      "Epoch 5/20\n",
      "155/155 [==============================] - 23s 149ms/step - loss: 0.7413 - accuracy: 0.7052 - val_loss: 0.6512 - val_accuracy: 0.7301\n",
      "Epoch 6/20\n",
      "155/155 [==============================] - 22s 143ms/step - loss: 0.7241 - accuracy: 0.7060 - val_loss: 1.0880 - val_accuracy: 0.5307\n",
      "Epoch 7/20\n",
      "155/155 [==============================] - 23s 147ms/step - loss: 0.7700 - accuracy: 0.6834 - val_loss: 0.8105 - val_accuracy: 0.7086\n",
      "Epoch 8/20\n",
      "155/155 [==============================] - 23s 145ms/step - loss: 0.6102 - accuracy: 0.7649 - val_loss: 0.4286 - val_accuracy: 0.8528\n",
      "Epoch 9/20\n",
      "155/155 [==============================] - 22s 143ms/step - loss: 0.6131 - accuracy: 0.7617 - val_loss: 0.3747 - val_accuracy: 0.8834\n",
      "Epoch 10/20\n",
      "155/155 [==============================] - 23s 147ms/step - loss: 0.5354 - accuracy: 0.7973 - val_loss: 0.3827 - val_accuracy: 0.8558\n",
      "Epoch 11/20\n",
      "155/155 [==============================] - 23s 149ms/step - loss: 0.4486 - accuracy: 0.8360 - val_loss: 0.2612 - val_accuracy: 0.9110\n",
      "Epoch 12/20\n",
      "155/155 [==============================] - 23s 150ms/step - loss: 0.4426 - accuracy: 0.8223 - val_loss: 0.3495 - val_accuracy: 0.8865\n",
      "Epoch 13/20\n",
      "155/155 [==============================] - 23s 149ms/step - loss: 0.4569 - accuracy: 0.8223 - val_loss: 0.2702 - val_accuracy: 0.9049\n",
      "Epoch 14/20\n",
      "155/155 [==============================] - 23s 147ms/step - loss: 0.4385 - accuracy: 0.8239 - val_loss: 1.7281 - val_accuracy: 0.5307\n",
      "Epoch 15/20\n",
      "155/155 [==============================] - 23s 149ms/step - loss: 0.4213 - accuracy: 0.8409 - val_loss: 0.2513 - val_accuracy: 0.9202\n",
      "Epoch 16/20\n",
      "155/155 [==============================] - 23s 149ms/step - loss: 0.3803 - accuracy: 0.8611 - val_loss: 0.1897 - val_accuracy: 0.9325\n",
      "Epoch 17/20\n",
      "155/155 [==============================] - 23s 148ms/step - loss: 0.3073 - accuracy: 0.8756 - val_loss: 0.0940 - val_accuracy: 0.9877\n",
      "Epoch 18/20\n",
      "155/155 [==============================] - 23s 149ms/step - loss: 0.3009 - accuracy: 0.8861 - val_loss: 0.4965 - val_accuracy: 0.8282\n",
      "Epoch 19/20\n",
      "155/155 [==============================] - 23s 146ms/step - loss: 0.2562 - accuracy: 0.9071 - val_loss: 0.0562 - val_accuracy: 0.9969\n",
      "Epoch 20/20\n",
      "155/155 [==============================] - 23s 150ms/step - loss: 0.2264 - accuracy: 0.9152 - val_loss: 0.0446 - val_accuracy: 0.9908\n"
     ]
    },
    {
     "data": {
      "text/plain": "<keras.callbacks.History at 0x1df4aa12a90>"
     },
     "execution_count": 123,
     "metadata": {},
     "output_type": "execute_result"
    }
   ],
   "source": [
    "#Fitting\n",
    "TunedModel.fit(Training,batch_size=8,validation_data=Testing,epochs=20,callbacks=early_stop)"
   ],
   "metadata": {
    "collapsed": false,
    "ExecuteTime": {
     "end_time": "2023-06-01T09:06:50.308781400Z",
     "start_time": "2023-06-01T08:59:12.965048900Z"
    }
   }
  },
  {
   "cell_type": "code",
   "execution_count": 124,
   "outputs": [],
   "source": [
    "TunedModel.save('TunedDropOutBatchNormEarlyStopModel.h5')"
   ],
   "metadata": {
    "collapsed": false,
    "ExecuteTime": {
     "end_time": "2023-06-01T09:06:50.454280800Z",
     "start_time": "2023-06-01T09:06:50.308781400Z"
    }
   }
  },
  {
   "cell_type": "code",
   "execution_count": 125,
   "outputs": [
    {
     "name": "stdout",
     "output_type": "stream",
     "text": [
      "1/1 [==============================] - 0s 203ms/step\n",
      "1/1 [==============================] - 0s 31ms/step\n",
      "1/1 [==============================] - 0s 31ms/step\n",
      "1/1 [==============================] - 0s 31ms/step\n"
     ]
    }
   ],
   "source": [
    "Values=[]\n",
    "for i in range(len(Images)):\n",
    "    Values.append(TunedModel.predict(Images[i]))"
   ],
   "metadata": {
    "collapsed": false,
    "ExecuteTime": {
     "end_time": "2023-06-01T09:06:50.979054200Z",
     "start_time": "2023-06-01T09:06:50.460797800Z"
    }
   }
  },
  {
   "cell_type": "code",
   "execution_count": 126,
   "outputs": [
    {
     "name": "stdout",
     "output_type": "stream",
     "text": [
      "Crow Bear\n",
      "Crow Crow\n",
      "Crow Elephant\n",
      "Crow Rat\n"
     ]
    }
   ],
   "source": [
    "#The Predictions Were\n",
    "for i in range(len(Values)):\n",
    "    Output=['Bear','Crow','Elephant','Rat']\n",
    "    print(Output[np.argmax(Values[i])],Output[i])"
   ],
   "metadata": {
    "collapsed": false,
    "ExecuteTime": {
     "end_time": "2023-06-01T09:06:50.988697100Z",
     "start_time": "2023-06-01T09:06:50.988697100Z"
    }
   }
  },
  {
   "cell_type": "code",
   "execution_count": 127,
   "outputs": [],
   "source": [
    "# So We Could See 3 Are Predicted Correctly But One Elephant Is Predicted Wrong as Bear Which Can Be Done In The Next Upcoming Model"
   ],
   "metadata": {
    "collapsed": false,
    "ExecuteTime": {
     "end_time": "2023-06-01T09:06:51.031731600Z",
     "start_time": "2023-06-01T09:06:50.988697100Z"
    }
   }
  }
 ],
 "metadata": {
  "kernelspec": {
   "display_name": "Python 3",
   "language": "python",
   "name": "python3"
  },
  "language_info": {
   "codemirror_mode": {
    "name": "ipython",
    "version": 2
   },
   "file_extension": ".py",
   "mimetype": "text/x-python",
   "name": "python",
   "nbconvert_exporter": "python",
   "pygments_lexer": "ipython2",
   "version": "2.7.6"
  }
 },
 "nbformat": 4,
 "nbformat_minor": 0
}
