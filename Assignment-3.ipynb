{
 "cells": [
  {
   "cell_type": "code",
   "execution_count": 189,
   "metadata": {
    "ExecuteTime": {
     "end_time": "2023-06-06T08:19:59.128763500Z",
     "start_time": "2023-06-06T08:19:59.084495300Z"
    },
    "collapsed": true
   },
   "outputs": [],
   "source": [
    "#Data Augmentation\n",
    "#Importing Libraries\n",
    "from tensorflow.keras.preprocessing.image import ImageDataGenerator"
   ]
  },
  {
   "cell_type": "code",
   "execution_count": 190,
   "metadata": {
    "ExecuteTime": {
     "end_time": "2023-06-06T08:19:59.223240400Z",
     "start_time": "2023-06-06T08:19:59.097017800Z"
    }
   },
   "outputs": [],
   "source": [
    "Train_Gen=ImageDataGenerator(rescale=(1./255),horizontal_flip=True,shear_range=0.2,zoom_range=0.2)\n",
    "Test_Gen=ImageDataGenerator(rescale=(1./255))"
   ]
  },
  {
   "cell_type": "code",
   "execution_count": 191,
   "metadata": {
    "ExecuteTime": {
     "end_time": "2023-06-06T08:19:59.223240400Z",
     "start_time": "2023-06-06T08:19:59.113125600Z"
    }
   },
   "outputs": [
    {
     "name": "stdout",
     "output_type": "stream",
     "text": [
      "Found 150 images belonging to 16 classes.\n",
      "Found 157 images belonging to 16 classes.\n"
     ]
    }
   ],
   "source": [
    "Training=Train_Gen.flow_from_directory('CNN/Birds_Dataset/dataset/Training',class_mode='categorical',batch_size=8,target_size=(224,224))\n",
    "Testing=Test_Gen.flow_from_directory('CNN/Birds_Dataset/dataset/Testing',class_mode='categorical',batch_size=8,target_size=(224,224))"
   ]
  },
  {
   "cell_type": "code",
   "execution_count": 192,
   "metadata": {
    "ExecuteTime": {
     "end_time": "2023-06-06T08:19:59.223240400Z",
     "start_time": "2023-06-06T08:19:59.176118100Z"
    }
   },
   "outputs": [],
   "source": [
    "#Res-Net-50\n",
    "#Importing Code\n",
    "from tensorflow.keras.applications.resnet import ResNet50"
   ]
  },
  {
   "cell_type": "code",
   "execution_count": 193,
   "metadata": {
    "ExecuteTime": {
     "end_time": "2023-06-06T08:20:00.921032500Z",
     "start_time": "2023-06-06T08:19:59.180460900Z"
    }
   },
   "outputs": [],
   "source": [
    "resnet=ResNet50(include_top=False,input_shape=(224,224,3))"
   ]
  },
  {
   "cell_type": "code",
   "execution_count": 194,
   "metadata": {
    "ExecuteTime": {
     "end_time": "2023-06-06T08:20:00.935488200Z",
     "start_time": "2023-06-06T08:20:00.921032500Z"
    }
   },
   "outputs": [
    {
     "name": "stdout",
     "output_type": "stream",
     "text": [
      "<keras.engine.input_layer.InputLayer object at 0x000002780011D090>\n",
      "<keras.layers.reshaping.zero_padding2d.ZeroPadding2D object at 0x0000027838207750>\n",
      "<keras.layers.convolutional.conv2d.Conv2D object at 0x000002783DB8FF50>\n",
      "<keras.layers.normalization.batch_normalization.BatchNormalization object at 0x00000278380FF1D0>\n",
      "<keras.layers.core.activation.Activation object at 0x000002783B72F750>\n",
      "<keras.layers.reshaping.zero_padding2d.ZeroPadding2D object at 0x00000278712B0B90>\n",
      "<keras.layers.pooling.max_pooling2d.MaxPooling2D object at 0x000002787127F090>\n",
      "<keras.layers.convolutional.conv2d.Conv2D object at 0x00000278711F9010>\n",
      "<keras.layers.normalization.batch_normalization.BatchNormalization object at 0x000002783DAF6BD0>\n",
      "<keras.layers.core.activation.Activation object at 0x0000027825F70ED0>\n",
      "<keras.layers.convolutional.conv2d.Conv2D object at 0x000002787121F190>\n",
      "<keras.layers.normalization.batch_normalization.BatchNormalization object at 0x000002781E741F90>\n",
      "<keras.layers.core.activation.Activation object at 0x000002787127D190>\n",
      "<keras.layers.convolutional.conv2d.Conv2D object at 0x0000027804574A50>\n",
      "<keras.layers.convolutional.conv2d.Conv2D object at 0x000002787121F8D0>\n",
      "<keras.layers.normalization.batch_normalization.BatchNormalization object at 0x0000027871249990>\n",
      "<keras.layers.normalization.batch_normalization.BatchNormalization object at 0x000002783DBCEB10>\n",
      "<keras.layers.merging.add.Add object at 0x00000278711F85D0>\n",
      "<keras.layers.core.activation.Activation object at 0x000002783DC43B10>\n",
      "<keras.layers.convolutional.conv2d.Conv2D object at 0x000002783F5D6890>\n",
      "<keras.layers.normalization.batch_normalization.BatchNormalization object at 0x00000278711A2850>\n",
      "<keras.layers.core.activation.Activation object at 0x00000278728D8ED0>\n",
      "<keras.layers.convolutional.conv2d.Conv2D object at 0x000002787118CD10>\n",
      "<keras.layers.normalization.batch_normalization.BatchNormalization object at 0x000002783EF3ED90>\n",
      "<keras.layers.core.activation.Activation object at 0x00000278014CBC90>\n",
      "<keras.layers.convolutional.conv2d.Conv2D object at 0x0000027871164C50>\n",
      "<keras.layers.normalization.batch_normalization.BatchNormalization object at 0x000002783F204B10>\n",
      "<keras.layers.merging.add.Add object at 0x0000027871165350>\n",
      "<keras.layers.core.activation.Activation object at 0x00000278014C29D0>\n",
      "<keras.layers.convolutional.conv2d.Conv2D object at 0x000002783DCF7110>\n",
      "<keras.layers.normalization.batch_normalization.BatchNormalization object at 0x00000278728B9F90>\n",
      "<keras.layers.core.activation.Activation object at 0x00000278260C4690>\n",
      "<keras.layers.convolutional.conv2d.Conv2D object at 0x0000027871268D90>\n",
      "<keras.layers.normalization.batch_normalization.BatchNormalization object at 0x00000278380FDA50>\n",
      "<keras.layers.core.activation.Activation object at 0x000002783DB92F10>\n",
      "<keras.layers.convolutional.conv2d.Conv2D object at 0x000002783F5BC2D0>\n",
      "<keras.layers.normalization.batch_normalization.BatchNormalization object at 0x00000278711E4390>\n",
      "<keras.layers.merging.add.Add object at 0x00000278712B21D0>\n",
      "<keras.layers.core.activation.Activation object at 0x00000278712687D0>\n",
      "<keras.layers.convolutional.conv2d.Conv2D object at 0x0000027871164850>\n",
      "<keras.layers.normalization.batch_normalization.BatchNormalization object at 0x000002787121C3D0>\n",
      "<keras.layers.core.activation.Activation object at 0x000002783CA0F1D0>\n",
      "<keras.layers.convolutional.conv2d.Conv2D object at 0x00000278711A25D0>\n",
      "<keras.layers.normalization.batch_normalization.BatchNormalization object at 0x0000027837DCA910>\n",
      "<keras.layers.core.activation.Activation object at 0x0000027838212690>\n",
      "<keras.layers.convolutional.conv2d.Conv2D object at 0x0000027871165090>\n",
      "<keras.layers.convolutional.conv2d.Conv2D object at 0x000002783EEDBF90>\n",
      "<keras.layers.normalization.batch_normalization.BatchNormalization object at 0x0000027871118810>\n",
      "<keras.layers.normalization.batch_normalization.BatchNormalization object at 0x000002787118D910>\n",
      "<keras.layers.merging.add.Add object at 0x0000027825ECD050>\n",
      "<keras.layers.core.activation.Activation object at 0x000002783DBA2F90>\n",
      "<keras.layers.convolutional.conv2d.Conv2D object at 0x000002783EEDA050>\n",
      "<keras.layers.normalization.batch_normalization.BatchNormalization object at 0x000002783DCF4590>\n",
      "<keras.layers.core.activation.Activation object at 0x000002787121C290>\n",
      "<keras.layers.convolutional.conv2d.Conv2D object at 0x000002787138E610>\n",
      "<keras.layers.normalization.batch_normalization.BatchNormalization object at 0x0000027871DC5350>\n",
      "<keras.layers.core.activation.Activation object at 0x0000027825E98690>\n",
      "<keras.layers.convolutional.conv2d.Conv2D object at 0x0000027871E5A390>\n",
      "<keras.layers.normalization.batch_normalization.BatchNormalization object at 0x000002787138D710>\n",
      "<keras.layers.merging.add.Add object at 0x000002783A31BE10>\n",
      "<keras.layers.core.activation.Activation object at 0x00000278711F84D0>\n",
      "<keras.layers.convolutional.conv2d.Conv2D object at 0x000002787138F510>\n",
      "<keras.layers.normalization.batch_normalization.BatchNormalization object at 0x000002783DC20B10>\n",
      "<keras.layers.core.activation.Activation object at 0x000002787138D450>\n",
      "<keras.layers.convolutional.conv2d.Conv2D object at 0x0000027837D4CFD0>\n",
      "<keras.layers.normalization.batch_normalization.BatchNormalization object at 0x000002783B601090>\n",
      "<keras.layers.core.activation.Activation object at 0x000002783C873690>\n",
      "<keras.layers.convolutional.conv2d.Conv2D object at 0x000002783B62F190>\n",
      "<keras.layers.normalization.batch_normalization.BatchNormalization object at 0x000002781E813C90>\n",
      "<keras.layers.merging.add.Add object at 0x000002783DCF5010>\n",
      "<keras.layers.core.activation.Activation object at 0x00000278713816D0>\n",
      "<keras.layers.convolutional.conv2d.Conv2D object at 0x0000027871382C10>\n",
      "<keras.layers.normalization.batch_normalization.BatchNormalization object at 0x000002783DCF4710>\n",
      "<keras.layers.core.activation.Activation object at 0x000002787138D550>\n",
      "<keras.layers.convolutional.conv2d.Conv2D object at 0x000002783DCD4F50>\n",
      "<keras.layers.normalization.batch_normalization.BatchNormalization object at 0x0000027871382A10>\n",
      "<keras.layers.core.activation.Activation object at 0x000002783C7E7610>\n",
      "<keras.layers.convolutional.conv2d.Conv2D object at 0x000002783DBA2210>\n",
      "<keras.layers.normalization.batch_normalization.BatchNormalization object at 0x000002783DCD4510>\n",
      "<keras.layers.merging.add.Add object at 0x000002781E741C90>\n",
      "<keras.layers.core.activation.Activation object at 0x0000027837D4F0D0>\n",
      "<keras.layers.convolutional.conv2d.Conv2D object at 0x000002787111A610>\n",
      "<keras.layers.normalization.batch_normalization.BatchNormalization object at 0x000002783C79BE90>\n",
      "<keras.layers.core.activation.Activation object at 0x000002783EEDB2D0>\n",
      "<keras.layers.convolutional.conv2d.Conv2D object at 0x0000027871367950>\n",
      "<keras.layers.normalization.batch_normalization.BatchNormalization object at 0x0000027871364310>\n",
      "<keras.layers.core.activation.Activation object at 0x0000027871366E90>\n",
      "<keras.layers.convolutional.conv2d.Conv2D object at 0x00000278711DEC10>\n",
      "<keras.layers.convolutional.conv2d.Conv2D object at 0x00000278713786D0>\n",
      "<keras.layers.normalization.batch_normalization.BatchNormalization object at 0x000002783C870C10>\n",
      "<keras.layers.normalization.batch_normalization.BatchNormalization object at 0x000002787135A0D0>\n",
      "<keras.layers.merging.add.Add object at 0x0000027871380110>\n",
      "<keras.layers.core.activation.Activation object at 0x00000278711A3B10>\n",
      "<keras.layers.convolutional.conv2d.Conv2D object at 0x000002787134F950>\n",
      "<keras.layers.normalization.batch_normalization.BatchNormalization object at 0x0000027871381B50>\n",
      "<keras.layers.core.activation.Activation object at 0x000002787134FAD0>\n",
      "<keras.layers.convolutional.conv2d.Conv2D object at 0x000002787138D090>\n",
      "<keras.layers.normalization.batch_normalization.BatchNormalization object at 0x000002783EE9A6D0>\n",
      "<keras.layers.core.activation.Activation object at 0x0000027871310990>\n",
      "<keras.layers.convolutional.conv2d.Conv2D object at 0x000002783B6FB890>\n",
      "<keras.layers.normalization.batch_normalization.BatchNormalization object at 0x000002787132A850>\n",
      "<keras.layers.merging.add.Add object at 0x000002783DC23F10>\n",
      "<keras.layers.core.activation.Activation object at 0x00000278712F3410>\n",
      "<keras.layers.convolutional.conv2d.Conv2D object at 0x00000278712DE750>\n",
      "<keras.layers.normalization.batch_normalization.BatchNormalization object at 0x00000278712DDD10>\n",
      "<keras.layers.core.activation.Activation object at 0x00000278712D6090>\n",
      "<keras.layers.convolutional.conv2d.Conv2D object at 0x00000278712D7B50>\n",
      "<keras.layers.normalization.batch_normalization.BatchNormalization object at 0x00000278712DE190>\n",
      "<keras.layers.core.activation.Activation object at 0x0000027825F93810>\n",
      "<keras.layers.convolutional.conv2d.Conv2D object at 0x000002783EE89390>\n",
      "<keras.layers.normalization.batch_normalization.BatchNormalization object at 0x00000278712D4FD0>\n",
      "<keras.layers.merging.add.Add object at 0x000002783F441050>\n",
      "<keras.layers.core.activation.Activation object at 0x000002786C880550>\n",
      "<keras.layers.convolutional.conv2d.Conv2D object at 0x000002783F4514D0>\n",
      "<keras.layers.normalization.batch_normalization.BatchNormalization object at 0x000002786F7B8FD0>\n",
      "<keras.layers.core.activation.Activation object at 0x000002783DADF710>\n",
      "<keras.layers.convolutional.conv2d.Conv2D object at 0x000002783CA111D0>\n",
      "<keras.layers.normalization.batch_normalization.BatchNormalization object at 0x0000027871118C10>\n",
      "<keras.layers.core.activation.Activation object at 0x000002783DC43C50>\n",
      "<keras.layers.convolutional.conv2d.Conv2D object at 0x0000027871DC6E90>\n",
      "<keras.layers.normalization.batch_normalization.BatchNormalization object at 0x00000278391FB3D0>\n",
      "<keras.layers.merging.add.Add object at 0x000002783F451DD0>\n",
      "<keras.layers.core.activation.Activation object at 0x000002783F443B50>\n",
      "<keras.layers.convolutional.conv2d.Conv2D object at 0x000002783EE8A4D0>\n",
      "<keras.layers.normalization.batch_normalization.BatchNormalization object at 0x0000027871313E10>\n",
      "<keras.layers.core.activation.Activation object at 0x000002783EE8BFD0>\n",
      "<keras.layers.convolutional.conv2d.Conv2D object at 0x000002787135BC10>\n",
      "<keras.layers.normalization.batch_normalization.BatchNormalization object at 0x000002787132B590>\n",
      "<keras.layers.core.activation.Activation object at 0x00000278712D6590>\n",
      "<keras.layers.convolutional.conv2d.Conv2D object at 0x0000027871385B10>\n",
      "<keras.layers.normalization.batch_normalization.BatchNormalization object at 0x000002783F437190>\n",
      "<keras.layers.merging.add.Add object at 0x000002786F7CAC90>\n",
      "<keras.layers.core.activation.Activation object at 0x000002781E7AFE50>\n",
      "<keras.layers.convolutional.conv2d.Conv2D object at 0x0000027837D4D750>\n",
      "<keras.layers.normalization.batch_normalization.BatchNormalization object at 0x000002783F277110>\n",
      "<keras.layers.core.activation.Activation object at 0x000002783EEFCD90>\n",
      "<keras.layers.convolutional.conv2d.Conv2D object at 0x000002787134E4D0>\n",
      "<keras.layers.normalization.batch_normalization.BatchNormalization object at 0x000002783DCD3E90>\n",
      "<keras.layers.core.activation.Activation object at 0x000002783F293CD0>\n",
      "<keras.layers.convolutional.conv2d.Conv2D object at 0x000002783F29B190>\n",
      "<keras.layers.normalization.batch_normalization.BatchNormalization object at 0x000002783EEB5010>\n",
      "<keras.layers.merging.add.Add object at 0x000002783F409C10>\n",
      "<keras.layers.core.activation.Activation object at 0x000002783F450610>\n",
      "<keras.layers.convolutional.conv2d.Conv2D object at 0x000002783DB16E10>\n",
      "<keras.layers.normalization.batch_normalization.BatchNormalization object at 0x000002783F406790>\n",
      "<keras.layers.core.activation.Activation object at 0x000002783F21E890>\n",
      "<keras.layers.convolutional.conv2d.Conv2D object at 0x000002780015EB10>\n",
      "<keras.layers.normalization.batch_normalization.BatchNormalization object at 0x000002780015C090>\n",
      "<keras.layers.core.activation.Activation object at 0x000002783DCD2350>\n",
      "<keras.layers.convolutional.conv2d.Conv2D object at 0x000002783F29B5D0>\n",
      "<keras.layers.convolutional.conv2d.Conv2D object at 0x000002783DC8EE10>\n",
      "<keras.layers.normalization.batch_normalization.BatchNormalization object at 0x000002783F2BF510>\n",
      "<keras.layers.normalization.batch_normalization.BatchNormalization object at 0x000002783DB57290>\n",
      "<keras.layers.merging.add.Add object at 0x000002780015C790>\n",
      "<keras.layers.core.activation.Activation object at 0x000002780015E3D0>\n",
      "<keras.layers.convolutional.conv2d.Conv2D object at 0x000002783F23BAD0>\n",
      "<keras.layers.normalization.batch_normalization.BatchNormalization object at 0x000002783F29AA10>\n",
      "<keras.layers.core.activation.Activation object at 0x000002783F406850>\n",
      "<keras.layers.convolutional.conv2d.Conv2D object at 0x000002783F402F10>\n",
      "<keras.layers.normalization.batch_normalization.BatchNormalization object at 0x000002783DC8C350>\n",
      "<keras.layers.core.activation.Activation object at 0x000002787134DA10>\n",
      "<keras.layers.convolutional.conv2d.Conv2D object at 0x000002781E7AD550>\n",
      "<keras.layers.normalization.batch_normalization.BatchNormalization object at 0x0000027871383B90>\n",
      "<keras.layers.merging.add.Add object at 0x000002783C872110>\n",
      "<keras.layers.core.activation.Activation object at 0x000002783F2C3E90>\n",
      "<keras.layers.convolutional.conv2d.Conv2D object at 0x000002783F23BC10>\n",
      "<keras.layers.normalization.batch_normalization.BatchNormalization object at 0x0000027839254890>\n",
      "<keras.layers.core.activation.Activation object at 0x000002783F21E990>\n",
      "<keras.layers.convolutional.conv2d.Conv2D object at 0x000002783F4097D0>\n",
      "<keras.layers.normalization.batch_normalization.BatchNormalization object at 0x000002783F2BEDD0>\n",
      "<keras.layers.core.activation.Activation object at 0x000002787134E190>\n",
      "<keras.layers.convolutional.conv2d.Conv2D object at 0x00000278392C60D0>\n",
      "<keras.layers.normalization.batch_normalization.BatchNormalization object at 0x000002783EE89FD0>\n",
      "<keras.layers.merging.add.Add object at 0x000002781E7ADC10>\n",
      "<keras.layers.core.activation.Activation object at 0x000002783F4012D0>\n"
     ]
    }
   ],
   "source": [
    "for layer in resnet.layers:\n",
    "    print(layer)\n",
    "    layer.trainable=False"
   ]
  },
  {
   "cell_type": "code",
   "execution_count": 195,
   "metadata": {
    "ExecuteTime": {
     "end_time": "2023-06-06T08:20:00.998161400Z",
     "start_time": "2023-06-06T08:20:00.935488200Z"
    }
   },
   "outputs": [],
   "source": [
    "from tensorflow.keras.layers import Dense,Flatten"
   ]
  },
  {
   "cell_type": "code",
   "execution_count": 196,
   "metadata": {
    "ExecuteTime": {
     "end_time": "2023-06-06T08:20:01.010256900Z",
     "start_time": "2023-06-06T08:20:00.953503100Z"
    }
   },
   "outputs": [],
   "source": [
    "ResX=Flatten()(resnet.output)"
   ]
  },
  {
   "cell_type": "code",
   "execution_count": 197,
   "metadata": {
    "ExecuteTime": {
     "end_time": "2023-06-06T08:20:01.019964400Z",
     "start_time": "2023-06-06T08:20:00.973481300Z"
    }
   },
   "outputs": [],
   "source": [
    "ResPrediction=Dense(16,activation='softmax')(ResX)"
   ]
  },
  {
   "cell_type": "code",
   "execution_count": 198,
   "metadata": {
    "ExecuteTime": {
     "end_time": "2023-06-06T08:20:01.020481700Z",
     "start_time": "2023-06-06T08:20:01.014277600Z"
    }
   },
   "outputs": [],
   "source": [
    "from keras.models import Model"
   ]
  },
  {
   "cell_type": "code",
   "execution_count": 199,
   "metadata": {
    "ExecuteTime": {
     "end_time": "2023-06-06T08:20:01.452366100Z",
     "start_time": "2023-06-06T08:20:01.020481700Z"
    }
   },
   "outputs": [
    {
     "name": "stdout",
     "output_type": "stream",
     "text": [
      "Model: \"model_14\"\n",
      "__________________________________________________________________________________________________\n",
      " Layer (type)                   Output Shape         Param #     Connected to                     \n",
      "==================================================================================================\n",
      " input_18 (InputLayer)          [(None, 224, 224, 3  0           []                               \n",
      "                                )]                                                                \n",
      "                                                                                                  \n",
      " conv1_pad (ZeroPadding2D)      (None, 230, 230, 3)  0           ['input_18[0][0]']               \n",
      "                                                                                                  \n",
      " conv1_conv (Conv2D)            (None, 112, 112, 64  9472        ['conv1_pad[0][0]']              \n",
      "                                )                                                                 \n",
      "                                                                                                  \n",
      " conv1_bn (BatchNormalization)  (None, 112, 112, 64  256         ['conv1_conv[0][0]']             \n",
      "                                )                                                                 \n",
      "                                                                                                  \n",
      " conv1_relu (Activation)        (None, 112, 112, 64  0           ['conv1_bn[0][0]']               \n",
      "                                )                                                                 \n",
      "                                                                                                  \n",
      " pool1_pad (ZeroPadding2D)      (None, 114, 114, 64  0           ['conv1_relu[0][0]']             \n",
      "                                )                                                                 \n",
      "                                                                                                  \n",
      " pool1_pool (MaxPooling2D)      (None, 56, 56, 64)   0           ['pool1_pad[0][0]']              \n",
      "                                                                                                  \n",
      " conv2_block1_1_conv (Conv2D)   (None, 56, 56, 64)   4160        ['pool1_pool[0][0]']             \n",
      "                                                                                                  \n",
      " conv2_block1_1_bn (BatchNormal  (None, 56, 56, 64)  256         ['conv2_block1_1_conv[0][0]']    \n",
      " ization)                                                                                         \n",
      "                                                                                                  \n",
      " conv2_block1_1_relu (Activatio  (None, 56, 56, 64)  0           ['conv2_block1_1_bn[0][0]']      \n",
      " n)                                                                                               \n",
      "                                                                                                  \n",
      " conv2_block1_2_conv (Conv2D)   (None, 56, 56, 64)   36928       ['conv2_block1_1_relu[0][0]']    \n",
      "                                                                                                  \n",
      " conv2_block1_2_bn (BatchNormal  (None, 56, 56, 64)  256         ['conv2_block1_2_conv[0][0]']    \n",
      " ization)                                                                                         \n",
      "                                                                                                  \n",
      " conv2_block1_2_relu (Activatio  (None, 56, 56, 64)  0           ['conv2_block1_2_bn[0][0]']      \n",
      " n)                                                                                               \n",
      "                                                                                                  \n",
      " conv2_block1_0_conv (Conv2D)   (None, 56, 56, 256)  16640       ['pool1_pool[0][0]']             \n",
      "                                                                                                  \n",
      " conv2_block1_3_conv (Conv2D)   (None, 56, 56, 256)  16640       ['conv2_block1_2_relu[0][0]']    \n",
      "                                                                                                  \n",
      " conv2_block1_0_bn (BatchNormal  (None, 56, 56, 256)  1024       ['conv2_block1_0_conv[0][0]']    \n",
      " ization)                                                                                         \n",
      "                                                                                                  \n",
      " conv2_block1_3_bn (BatchNormal  (None, 56, 56, 256)  1024       ['conv2_block1_3_conv[0][0]']    \n",
      " ization)                                                                                         \n",
      "                                                                                                  \n",
      " conv2_block1_add (Add)         (None, 56, 56, 256)  0           ['conv2_block1_0_bn[0][0]',      \n",
      "                                                                  'conv2_block1_3_bn[0][0]']      \n",
      "                                                                                                  \n",
      " conv2_block1_out (Activation)  (None, 56, 56, 256)  0           ['conv2_block1_add[0][0]']       \n",
      "                                                                                                  \n",
      " conv2_block2_1_conv (Conv2D)   (None, 56, 56, 64)   16448       ['conv2_block1_out[0][0]']       \n",
      "                                                                                                  \n",
      " conv2_block2_1_bn (BatchNormal  (None, 56, 56, 64)  256         ['conv2_block2_1_conv[0][0]']    \n",
      " ization)                                                                                         \n",
      "                                                                                                  \n",
      " conv2_block2_1_relu (Activatio  (None, 56, 56, 64)  0           ['conv2_block2_1_bn[0][0]']      \n",
      " n)                                                                                               \n",
      "                                                                                                  \n",
      " conv2_block2_2_conv (Conv2D)   (None, 56, 56, 64)   36928       ['conv2_block2_1_relu[0][0]']    \n",
      "                                                                                                  \n",
      " conv2_block2_2_bn (BatchNormal  (None, 56, 56, 64)  256         ['conv2_block2_2_conv[0][0]']    \n",
      " ization)                                                                                         \n",
      "                                                                                                  \n",
      " conv2_block2_2_relu (Activatio  (None, 56, 56, 64)  0           ['conv2_block2_2_bn[0][0]']      \n",
      " n)                                                                                               \n",
      "                                                                                                  \n",
      " conv2_block2_3_conv (Conv2D)   (None, 56, 56, 256)  16640       ['conv2_block2_2_relu[0][0]']    \n",
      "                                                                                                  \n",
      " conv2_block2_3_bn (BatchNormal  (None, 56, 56, 256)  1024       ['conv2_block2_3_conv[0][0]']    \n",
      " ization)                                                                                         \n",
      "                                                                                                  \n",
      " conv2_block2_add (Add)         (None, 56, 56, 256)  0           ['conv2_block1_out[0][0]',       \n",
      "                                                                  'conv2_block2_3_bn[0][0]']      \n",
      "                                                                                                  \n",
      " conv2_block2_out (Activation)  (None, 56, 56, 256)  0           ['conv2_block2_add[0][0]']       \n",
      "                                                                                                  \n",
      " conv2_block3_1_conv (Conv2D)   (None, 56, 56, 64)   16448       ['conv2_block2_out[0][0]']       \n",
      "                                                                                                  \n",
      " conv2_block3_1_bn (BatchNormal  (None, 56, 56, 64)  256         ['conv2_block3_1_conv[0][0]']    \n",
      " ization)                                                                                         \n",
      "                                                                                                  \n",
      " conv2_block3_1_relu (Activatio  (None, 56, 56, 64)  0           ['conv2_block3_1_bn[0][0]']      \n",
      " n)                                                                                               \n",
      "                                                                                                  \n",
      " conv2_block3_2_conv (Conv2D)   (None, 56, 56, 64)   36928       ['conv2_block3_1_relu[0][0]']    \n",
      "                                                                                                  \n",
      " conv2_block3_2_bn (BatchNormal  (None, 56, 56, 64)  256         ['conv2_block3_2_conv[0][0]']    \n",
      " ization)                                                                                         \n",
      "                                                                                                  \n",
      " conv2_block3_2_relu (Activatio  (None, 56, 56, 64)  0           ['conv2_block3_2_bn[0][0]']      \n",
      " n)                                                                                               \n",
      "                                                                                                  \n",
      " conv2_block3_3_conv (Conv2D)   (None, 56, 56, 256)  16640       ['conv2_block3_2_relu[0][0]']    \n",
      "                                                                                                  \n",
      " conv2_block3_3_bn (BatchNormal  (None, 56, 56, 256)  1024       ['conv2_block3_3_conv[0][0]']    \n",
      " ization)                                                                                         \n",
      "                                                                                                  \n",
      " conv2_block3_add (Add)         (None, 56, 56, 256)  0           ['conv2_block2_out[0][0]',       \n",
      "                                                                  'conv2_block3_3_bn[0][0]']      \n",
      "                                                                                                  \n",
      " conv2_block3_out (Activation)  (None, 56, 56, 256)  0           ['conv2_block3_add[0][0]']       \n",
      "                                                                                                  \n",
      " conv3_block1_1_conv (Conv2D)   (None, 28, 28, 128)  32896       ['conv2_block3_out[0][0]']       \n",
      "                                                                                                  \n",
      " conv3_block1_1_bn (BatchNormal  (None, 28, 28, 128)  512        ['conv3_block1_1_conv[0][0]']    \n",
      " ization)                                                                                         \n",
      "                                                                                                  \n",
      " conv3_block1_1_relu (Activatio  (None, 28, 28, 128)  0          ['conv3_block1_1_bn[0][0]']      \n",
      " n)                                                                                               \n",
      "                                                                                                  \n",
      " conv3_block1_2_conv (Conv2D)   (None, 28, 28, 128)  147584      ['conv3_block1_1_relu[0][0]']    \n",
      "                                                                                                  \n",
      " conv3_block1_2_bn (BatchNormal  (None, 28, 28, 128)  512        ['conv3_block1_2_conv[0][0]']    \n",
      " ization)                                                                                         \n",
      "                                                                                                  \n",
      " conv3_block1_2_relu (Activatio  (None, 28, 28, 128)  0          ['conv3_block1_2_bn[0][0]']      \n",
      " n)                                                                                               \n",
      "                                                                                                  \n",
      " conv3_block1_0_conv (Conv2D)   (None, 28, 28, 512)  131584      ['conv2_block3_out[0][0]']       \n",
      "                                                                                                  \n",
      " conv3_block1_3_conv (Conv2D)   (None, 28, 28, 512)  66048       ['conv3_block1_2_relu[0][0]']    \n",
      "                                                                                                  \n",
      " conv3_block1_0_bn (BatchNormal  (None, 28, 28, 512)  2048       ['conv3_block1_0_conv[0][0]']    \n",
      " ization)                                                                                         \n",
      "                                                                                                  \n",
      " conv3_block1_3_bn (BatchNormal  (None, 28, 28, 512)  2048       ['conv3_block1_3_conv[0][0]']    \n",
      " ization)                                                                                         \n",
      "                                                                                                  \n",
      " conv3_block1_add (Add)         (None, 28, 28, 512)  0           ['conv3_block1_0_bn[0][0]',      \n",
      "                                                                  'conv3_block1_3_bn[0][0]']      \n",
      "                                                                                                  \n",
      " conv3_block1_out (Activation)  (None, 28, 28, 512)  0           ['conv3_block1_add[0][0]']       \n",
      "                                                                                                  \n",
      " conv3_block2_1_conv (Conv2D)   (None, 28, 28, 128)  65664       ['conv3_block1_out[0][0]']       \n",
      "                                                                                                  \n",
      " conv3_block2_1_bn (BatchNormal  (None, 28, 28, 128)  512        ['conv3_block2_1_conv[0][0]']    \n",
      " ization)                                                                                         \n",
      "                                                                                                  \n",
      " conv3_block2_1_relu (Activatio  (None, 28, 28, 128)  0          ['conv3_block2_1_bn[0][0]']      \n",
      " n)                                                                                               \n",
      "                                                                                                  \n",
      " conv3_block2_2_conv (Conv2D)   (None, 28, 28, 128)  147584      ['conv3_block2_1_relu[0][0]']    \n",
      "                                                                                                  \n",
      " conv3_block2_2_bn (BatchNormal  (None, 28, 28, 128)  512        ['conv3_block2_2_conv[0][0]']    \n",
      " ization)                                                                                         \n",
      "                                                                                                  \n",
      " conv3_block2_2_relu (Activatio  (None, 28, 28, 128)  0          ['conv3_block2_2_bn[0][0]']      \n",
      " n)                                                                                               \n",
      "                                                                                                  \n",
      " conv3_block2_3_conv (Conv2D)   (None, 28, 28, 512)  66048       ['conv3_block2_2_relu[0][0]']    \n",
      "                                                                                                  \n",
      " conv3_block2_3_bn (BatchNormal  (None, 28, 28, 512)  2048       ['conv3_block2_3_conv[0][0]']    \n",
      " ization)                                                                                         \n",
      "                                                                                                  \n",
      " conv3_block2_add (Add)         (None, 28, 28, 512)  0           ['conv3_block1_out[0][0]',       \n",
      "                                                                  'conv3_block2_3_bn[0][0]']      \n",
      "                                                                                                  \n",
      " conv3_block2_out (Activation)  (None, 28, 28, 512)  0           ['conv3_block2_add[0][0]']       \n",
      "                                                                                                  \n",
      " conv3_block3_1_conv (Conv2D)   (None, 28, 28, 128)  65664       ['conv3_block2_out[0][0]']       \n",
      "                                                                                                  \n",
      " conv3_block3_1_bn (BatchNormal  (None, 28, 28, 128)  512        ['conv3_block3_1_conv[0][0]']    \n",
      " ization)                                                                                         \n",
      "                                                                                                  \n",
      " conv3_block3_1_relu (Activatio  (None, 28, 28, 128)  0          ['conv3_block3_1_bn[0][0]']      \n",
      " n)                                                                                               \n",
      "                                                                                                  \n",
      " conv3_block3_2_conv (Conv2D)   (None, 28, 28, 128)  147584      ['conv3_block3_1_relu[0][0]']    \n",
      "                                                                                                  \n",
      " conv3_block3_2_bn (BatchNormal  (None, 28, 28, 128)  512        ['conv3_block3_2_conv[0][0]']    \n",
      " ization)                                                                                         \n",
      "                                                                                                  \n",
      " conv3_block3_2_relu (Activatio  (None, 28, 28, 128)  0          ['conv3_block3_2_bn[0][0]']      \n",
      " n)                                                                                               \n",
      "                                                                                                  \n",
      " conv3_block3_3_conv (Conv2D)   (None, 28, 28, 512)  66048       ['conv3_block3_2_relu[0][0]']    \n",
      "                                                                                                  \n",
      " conv3_block3_3_bn (BatchNormal  (None, 28, 28, 512)  2048       ['conv3_block3_3_conv[0][0]']    \n",
      " ization)                                                                                         \n",
      "                                                                                                  \n",
      " conv3_block3_add (Add)         (None, 28, 28, 512)  0           ['conv3_block2_out[0][0]',       \n",
      "                                                                  'conv3_block3_3_bn[0][0]']      \n",
      "                                                                                                  \n",
      " conv3_block3_out (Activation)  (None, 28, 28, 512)  0           ['conv3_block3_add[0][0]']       \n",
      "                                                                                                  \n",
      " conv3_block4_1_conv (Conv2D)   (None, 28, 28, 128)  65664       ['conv3_block3_out[0][0]']       \n",
      "                                                                                                  \n",
      " conv3_block4_1_bn (BatchNormal  (None, 28, 28, 128)  512        ['conv3_block4_1_conv[0][0]']    \n",
      " ization)                                                                                         \n",
      "                                                                                                  \n",
      " conv3_block4_1_relu (Activatio  (None, 28, 28, 128)  0          ['conv3_block4_1_bn[0][0]']      \n",
      " n)                                                                                               \n",
      "                                                                                                  \n",
      " conv3_block4_2_conv (Conv2D)   (None, 28, 28, 128)  147584      ['conv3_block4_1_relu[0][0]']    \n",
      "                                                                                                  \n",
      " conv3_block4_2_bn (BatchNormal  (None, 28, 28, 128)  512        ['conv3_block4_2_conv[0][0]']    \n",
      " ization)                                                                                         \n",
      "                                                                                                  \n",
      " conv3_block4_2_relu (Activatio  (None, 28, 28, 128)  0          ['conv3_block4_2_bn[0][0]']      \n",
      " n)                                                                                               \n",
      "                                                                                                  \n",
      " conv3_block4_3_conv (Conv2D)   (None, 28, 28, 512)  66048       ['conv3_block4_2_relu[0][0]']    \n",
      "                                                                                                  \n",
      " conv3_block4_3_bn (BatchNormal  (None, 28, 28, 512)  2048       ['conv3_block4_3_conv[0][0]']    \n",
      " ization)                                                                                         \n",
      "                                                                                                  \n",
      " conv3_block4_add (Add)         (None, 28, 28, 512)  0           ['conv3_block3_out[0][0]',       \n",
      "                                                                  'conv3_block4_3_bn[0][0]']      \n",
      "                                                                                                  \n",
      " conv3_block4_out (Activation)  (None, 28, 28, 512)  0           ['conv3_block4_add[0][0]']       \n",
      "                                                                                                  \n",
      " conv4_block1_1_conv (Conv2D)   (None, 14, 14, 256)  131328      ['conv3_block4_out[0][0]']       \n",
      "                                                                                                  \n",
      " conv4_block1_1_bn (BatchNormal  (None, 14, 14, 256)  1024       ['conv4_block1_1_conv[0][0]']    \n",
      " ization)                                                                                         \n",
      "                                                                                                  \n",
      " conv4_block1_1_relu (Activatio  (None, 14, 14, 256)  0          ['conv4_block1_1_bn[0][0]']      \n",
      " n)                                                                                               \n",
      "                                                                                                  \n",
      " conv4_block1_2_conv (Conv2D)   (None, 14, 14, 256)  590080      ['conv4_block1_1_relu[0][0]']    \n",
      "                                                                                                  \n",
      " conv4_block1_2_bn (BatchNormal  (None, 14, 14, 256)  1024       ['conv4_block1_2_conv[0][0]']    \n",
      " ization)                                                                                         \n",
      "                                                                                                  \n",
      " conv4_block1_2_relu (Activatio  (None, 14, 14, 256)  0          ['conv4_block1_2_bn[0][0]']      \n",
      " n)                                                                                               \n",
      "                                                                                                  \n",
      " conv4_block1_0_conv (Conv2D)   (None, 14, 14, 1024  525312      ['conv3_block4_out[0][0]']       \n",
      "                                )                                                                 \n",
      "                                                                                                  \n",
      " conv4_block1_3_conv (Conv2D)   (None, 14, 14, 1024  263168      ['conv4_block1_2_relu[0][0]']    \n",
      "                                )                                                                 \n",
      "                                                                                                  \n",
      " conv4_block1_0_bn (BatchNormal  (None, 14, 14, 1024  4096       ['conv4_block1_0_conv[0][0]']    \n",
      " ization)                       )                                                                 \n",
      "                                                                                                  \n",
      " conv4_block1_3_bn (BatchNormal  (None, 14, 14, 1024  4096       ['conv4_block1_3_conv[0][0]']    \n",
      " ization)                       )                                                                 \n",
      "                                                                                                  \n",
      " conv4_block1_add (Add)         (None, 14, 14, 1024  0           ['conv4_block1_0_bn[0][0]',      \n",
      "                                )                                 'conv4_block1_3_bn[0][0]']      \n",
      "                                                                                                  \n",
      " conv4_block1_out (Activation)  (None, 14, 14, 1024  0           ['conv4_block1_add[0][0]']       \n",
      "                                )                                                                 \n",
      "                                                                                                  \n",
      " conv4_block2_1_conv (Conv2D)   (None, 14, 14, 256)  262400      ['conv4_block1_out[0][0]']       \n",
      "                                                                                                  \n",
      " conv4_block2_1_bn (BatchNormal  (None, 14, 14, 256)  1024       ['conv4_block2_1_conv[0][0]']    \n",
      " ization)                                                                                         \n",
      "                                                                                                  \n",
      " conv4_block2_1_relu (Activatio  (None, 14, 14, 256)  0          ['conv4_block2_1_bn[0][0]']      \n",
      " n)                                                                                               \n",
      "                                                                                                  \n",
      " conv4_block2_2_conv (Conv2D)   (None, 14, 14, 256)  590080      ['conv4_block2_1_relu[0][0]']    \n",
      "                                                                                                  \n",
      " conv4_block2_2_bn (BatchNormal  (None, 14, 14, 256)  1024       ['conv4_block2_2_conv[0][0]']    \n",
      " ization)                                                                                         \n",
      "                                                                                                  \n",
      " conv4_block2_2_relu (Activatio  (None, 14, 14, 256)  0          ['conv4_block2_2_bn[0][0]']      \n",
      " n)                                                                                               \n",
      "                                                                                                  \n",
      " conv4_block2_3_conv (Conv2D)   (None, 14, 14, 1024  263168      ['conv4_block2_2_relu[0][0]']    \n",
      "                                )                                                                 \n",
      "                                                                                                  \n",
      " conv4_block2_3_bn (BatchNormal  (None, 14, 14, 1024  4096       ['conv4_block2_3_conv[0][0]']    \n",
      " ization)                       )                                                                 \n",
      "                                                                                                  \n",
      " conv4_block2_add (Add)         (None, 14, 14, 1024  0           ['conv4_block1_out[0][0]',       \n",
      "                                )                                 'conv4_block2_3_bn[0][0]']      \n",
      "                                                                                                  \n",
      " conv4_block2_out (Activation)  (None, 14, 14, 1024  0           ['conv4_block2_add[0][0]']       \n",
      "                                )                                                                 \n",
      "                                                                                                  \n",
      " conv4_block3_1_conv (Conv2D)   (None, 14, 14, 256)  262400      ['conv4_block2_out[0][0]']       \n",
      "                                                                                                  \n",
      " conv4_block3_1_bn (BatchNormal  (None, 14, 14, 256)  1024       ['conv4_block3_1_conv[0][0]']    \n",
      " ization)                                                                                         \n",
      "                                                                                                  \n",
      " conv4_block3_1_relu (Activatio  (None, 14, 14, 256)  0          ['conv4_block3_1_bn[0][0]']      \n",
      " n)                                                                                               \n",
      "                                                                                                  \n",
      " conv4_block3_2_conv (Conv2D)   (None, 14, 14, 256)  590080      ['conv4_block3_1_relu[0][0]']    \n",
      "                                                                                                  \n",
      " conv4_block3_2_bn (BatchNormal  (None, 14, 14, 256)  1024       ['conv4_block3_2_conv[0][0]']    \n",
      " ization)                                                                                         \n",
      "                                                                                                  \n",
      " conv4_block3_2_relu (Activatio  (None, 14, 14, 256)  0          ['conv4_block3_2_bn[0][0]']      \n",
      " n)                                                                                               \n",
      "                                                                                                  \n",
      " conv4_block3_3_conv (Conv2D)   (None, 14, 14, 1024  263168      ['conv4_block3_2_relu[0][0]']    \n",
      "                                )                                                                 \n",
      "                                                                                                  \n",
      " conv4_block3_3_bn (BatchNormal  (None, 14, 14, 1024  4096       ['conv4_block3_3_conv[0][0]']    \n",
      " ization)                       )                                                                 \n",
      "                                                                                                  \n",
      " conv4_block3_add (Add)         (None, 14, 14, 1024  0           ['conv4_block2_out[0][0]',       \n",
      "                                )                                 'conv4_block3_3_bn[0][0]']      \n",
      "                                                                                                  \n",
      " conv4_block3_out (Activation)  (None, 14, 14, 1024  0           ['conv4_block3_add[0][0]']       \n",
      "                                )                                                                 \n",
      "                                                                                                  \n",
      " conv4_block4_1_conv (Conv2D)   (None, 14, 14, 256)  262400      ['conv4_block3_out[0][0]']       \n",
      "                                                                                                  \n",
      " conv4_block4_1_bn (BatchNormal  (None, 14, 14, 256)  1024       ['conv4_block4_1_conv[0][0]']    \n",
      " ization)                                                                                         \n",
      "                                                                                                  \n",
      " conv4_block4_1_relu (Activatio  (None, 14, 14, 256)  0          ['conv4_block4_1_bn[0][0]']      \n",
      " n)                                                                                               \n",
      "                                                                                                  \n",
      " conv4_block4_2_conv (Conv2D)   (None, 14, 14, 256)  590080      ['conv4_block4_1_relu[0][0]']    \n",
      "                                                                                                  \n",
      " conv4_block4_2_bn (BatchNormal  (None, 14, 14, 256)  1024       ['conv4_block4_2_conv[0][0]']    \n",
      " ization)                                                                                         \n",
      "                                                                                                  \n",
      " conv4_block4_2_relu (Activatio  (None, 14, 14, 256)  0          ['conv4_block4_2_bn[0][0]']      \n",
      " n)                                                                                               \n",
      "                                                                                                  \n",
      " conv4_block4_3_conv (Conv2D)   (None, 14, 14, 1024  263168      ['conv4_block4_2_relu[0][0]']    \n",
      "                                )                                                                 \n",
      "                                                                                                  \n",
      " conv4_block4_3_bn (BatchNormal  (None, 14, 14, 1024  4096       ['conv4_block4_3_conv[0][0]']    \n",
      " ization)                       )                                                                 \n",
      "                                                                                                  \n",
      " conv4_block4_add (Add)         (None, 14, 14, 1024  0           ['conv4_block3_out[0][0]',       \n",
      "                                )                                 'conv4_block4_3_bn[0][0]']      \n",
      "                                                                                                  \n",
      " conv4_block4_out (Activation)  (None, 14, 14, 1024  0           ['conv4_block4_add[0][0]']       \n",
      "                                )                                                                 \n",
      "                                                                                                  \n",
      " conv4_block5_1_conv (Conv2D)   (None, 14, 14, 256)  262400      ['conv4_block4_out[0][0]']       \n",
      "                                                                                                  \n",
      " conv4_block5_1_bn (BatchNormal  (None, 14, 14, 256)  1024       ['conv4_block5_1_conv[0][0]']    \n",
      " ization)                                                                                         \n",
      "                                                                                                  \n",
      " conv4_block5_1_relu (Activatio  (None, 14, 14, 256)  0          ['conv4_block5_1_bn[0][0]']      \n",
      " n)                                                                                               \n",
      "                                                                                                  \n",
      " conv4_block5_2_conv (Conv2D)   (None, 14, 14, 256)  590080      ['conv4_block5_1_relu[0][0]']    \n",
      "                                                                                                  \n",
      " conv4_block5_2_bn (BatchNormal  (None, 14, 14, 256)  1024       ['conv4_block5_2_conv[0][0]']    \n",
      " ization)                                                                                         \n",
      "                                                                                                  \n",
      " conv4_block5_2_relu (Activatio  (None, 14, 14, 256)  0          ['conv4_block5_2_bn[0][0]']      \n",
      " n)                                                                                               \n",
      "                                                                                                  \n",
      " conv4_block5_3_conv (Conv2D)   (None, 14, 14, 1024  263168      ['conv4_block5_2_relu[0][0]']    \n",
      "                                )                                                                 \n",
      "                                                                                                  \n",
      " conv4_block5_3_bn (BatchNormal  (None, 14, 14, 1024  4096       ['conv4_block5_3_conv[0][0]']    \n",
      " ization)                       )                                                                 \n",
      "                                                                                                  \n",
      " conv4_block5_add (Add)         (None, 14, 14, 1024  0           ['conv4_block4_out[0][0]',       \n",
      "                                )                                 'conv4_block5_3_bn[0][0]']      \n",
      "                                                                                                  \n",
      " conv4_block5_out (Activation)  (None, 14, 14, 1024  0           ['conv4_block5_add[0][0]']       \n",
      "                                )                                                                 \n",
      "                                                                                                  \n",
      " conv4_block6_1_conv (Conv2D)   (None, 14, 14, 256)  262400      ['conv4_block5_out[0][0]']       \n",
      "                                                                                                  \n",
      " conv4_block6_1_bn (BatchNormal  (None, 14, 14, 256)  1024       ['conv4_block6_1_conv[0][0]']    \n",
      " ization)                                                                                         \n",
      "                                                                                                  \n",
      " conv4_block6_1_relu (Activatio  (None, 14, 14, 256)  0          ['conv4_block6_1_bn[0][0]']      \n",
      " n)                                                                                               \n",
      "                                                                                                  \n",
      " conv4_block6_2_conv (Conv2D)   (None, 14, 14, 256)  590080      ['conv4_block6_1_relu[0][0]']    \n",
      "                                                                                                  \n",
      " conv4_block6_2_bn (BatchNormal  (None, 14, 14, 256)  1024       ['conv4_block6_2_conv[0][0]']    \n",
      " ization)                                                                                         \n",
      "                                                                                                  \n",
      " conv4_block6_2_relu (Activatio  (None, 14, 14, 256)  0          ['conv4_block6_2_bn[0][0]']      \n",
      " n)                                                                                               \n",
      "                                                                                                  \n",
      " conv4_block6_3_conv (Conv2D)   (None, 14, 14, 1024  263168      ['conv4_block6_2_relu[0][0]']    \n",
      "                                )                                                                 \n",
      "                                                                                                  \n",
      " conv4_block6_3_bn (BatchNormal  (None, 14, 14, 1024  4096       ['conv4_block6_3_conv[0][0]']    \n",
      " ization)                       )                                                                 \n",
      "                                                                                                  \n",
      " conv4_block6_add (Add)         (None, 14, 14, 1024  0           ['conv4_block5_out[0][0]',       \n",
      "                                )                                 'conv4_block6_3_bn[0][0]']      \n",
      "                                                                                                  \n",
      " conv4_block6_out (Activation)  (None, 14, 14, 1024  0           ['conv4_block6_add[0][0]']       \n",
      "                                )                                                                 \n",
      "                                                                                                  \n",
      " conv5_block1_1_conv (Conv2D)   (None, 7, 7, 512)    524800      ['conv4_block6_out[0][0]']       \n",
      "                                                                                                  \n",
      " conv5_block1_1_bn (BatchNormal  (None, 7, 7, 512)   2048        ['conv5_block1_1_conv[0][0]']    \n",
      " ization)                                                                                         \n",
      "                                                                                                  \n",
      " conv5_block1_1_relu (Activatio  (None, 7, 7, 512)   0           ['conv5_block1_1_bn[0][0]']      \n",
      " n)                                                                                               \n",
      "                                                                                                  \n",
      " conv5_block1_2_conv (Conv2D)   (None, 7, 7, 512)    2359808     ['conv5_block1_1_relu[0][0]']    \n",
      "                                                                                                  \n",
      " conv5_block1_2_bn (BatchNormal  (None, 7, 7, 512)   2048        ['conv5_block1_2_conv[0][0]']    \n",
      " ization)                                                                                         \n",
      "                                                                                                  \n",
      " conv5_block1_2_relu (Activatio  (None, 7, 7, 512)   0           ['conv5_block1_2_bn[0][0]']      \n",
      " n)                                                                                               \n",
      "                                                                                                  \n",
      " conv5_block1_0_conv (Conv2D)   (None, 7, 7, 2048)   2099200     ['conv4_block6_out[0][0]']       \n",
      "                                                                                                  \n",
      " conv5_block1_3_conv (Conv2D)   (None, 7, 7, 2048)   1050624     ['conv5_block1_2_relu[0][0]']    \n",
      "                                                                                                  \n",
      " conv5_block1_0_bn (BatchNormal  (None, 7, 7, 2048)  8192        ['conv5_block1_0_conv[0][0]']    \n",
      " ization)                                                                                         \n",
      "                                                                                                  \n",
      " conv5_block1_3_bn (BatchNormal  (None, 7, 7, 2048)  8192        ['conv5_block1_3_conv[0][0]']    \n",
      " ization)                                                                                         \n",
      "                                                                                                  \n",
      " conv5_block1_add (Add)         (None, 7, 7, 2048)   0           ['conv5_block1_0_bn[0][0]',      \n",
      "                                                                  'conv5_block1_3_bn[0][0]']      \n",
      "                                                                                                  \n",
      " conv5_block1_out (Activation)  (None, 7, 7, 2048)   0           ['conv5_block1_add[0][0]']       \n",
      "                                                                                                  \n",
      " conv5_block2_1_conv (Conv2D)   (None, 7, 7, 512)    1049088     ['conv5_block1_out[0][0]']       \n",
      "                                                                                                  \n",
      " conv5_block2_1_bn (BatchNormal  (None, 7, 7, 512)   2048        ['conv5_block2_1_conv[0][0]']    \n",
      " ization)                                                                                         \n",
      "                                                                                                  \n",
      " conv5_block2_1_relu (Activatio  (None, 7, 7, 512)   0           ['conv5_block2_1_bn[0][0]']      \n",
      " n)                                                                                               \n",
      "                                                                                                  \n",
      " conv5_block2_2_conv (Conv2D)   (None, 7, 7, 512)    2359808     ['conv5_block2_1_relu[0][0]']    \n",
      "                                                                                                  \n",
      " conv5_block2_2_bn (BatchNormal  (None, 7, 7, 512)   2048        ['conv5_block2_2_conv[0][0]']    \n",
      " ization)                                                                                         \n",
      "                                                                                                  \n",
      " conv5_block2_2_relu (Activatio  (None, 7, 7, 512)   0           ['conv5_block2_2_bn[0][0]']      \n",
      " n)                                                                                               \n",
      "                                                                                                  \n",
      " conv5_block2_3_conv (Conv2D)   (None, 7, 7, 2048)   1050624     ['conv5_block2_2_relu[0][0]']    \n",
      "                                                                                                  \n",
      " conv5_block2_3_bn (BatchNormal  (None, 7, 7, 2048)  8192        ['conv5_block2_3_conv[0][0]']    \n",
      " ization)                                                                                         \n",
      "                                                                                                  \n",
      " conv5_block2_add (Add)         (None, 7, 7, 2048)   0           ['conv5_block1_out[0][0]',       \n",
      "                                                                  'conv5_block2_3_bn[0][0]']      \n",
      "                                                                                                  \n",
      " conv5_block2_out (Activation)  (None, 7, 7, 2048)   0           ['conv5_block2_add[0][0]']       \n",
      "                                                                                                  \n",
      " conv5_block3_1_conv (Conv2D)   (None, 7, 7, 512)    1049088     ['conv5_block2_out[0][0]']       \n",
      "                                                                                                  \n",
      " conv5_block3_1_bn (BatchNormal  (None, 7, 7, 512)   2048        ['conv5_block3_1_conv[0][0]']    \n",
      " ization)                                                                                         \n",
      "                                                                                                  \n",
      " conv5_block3_1_relu (Activatio  (None, 7, 7, 512)   0           ['conv5_block3_1_bn[0][0]']      \n",
      " n)                                                                                               \n",
      "                                                                                                  \n",
      " conv5_block3_2_conv (Conv2D)   (None, 7, 7, 512)    2359808     ['conv5_block3_1_relu[0][0]']    \n",
      "                                                                                                  \n",
      " conv5_block3_2_bn (BatchNormal  (None, 7, 7, 512)   2048        ['conv5_block3_2_conv[0][0]']    \n",
      " ization)                                                                                         \n",
      "                                                                                                  \n",
      " conv5_block3_2_relu (Activatio  (None, 7, 7, 512)   0           ['conv5_block3_2_bn[0][0]']      \n",
      " n)                                                                                               \n",
      "                                                                                                  \n",
      " conv5_block3_3_conv (Conv2D)   (None, 7, 7, 2048)   1050624     ['conv5_block3_2_relu[0][0]']    \n",
      "                                                                                                  \n",
      " conv5_block3_3_bn (BatchNormal  (None, 7, 7, 2048)  8192        ['conv5_block3_3_conv[0][0]']    \n",
      " ization)                                                                                         \n",
      "                                                                                                  \n",
      " conv5_block3_add (Add)         (None, 7, 7, 2048)   0           ['conv5_block2_out[0][0]',       \n",
      "                                                                  'conv5_block3_3_bn[0][0]']      \n",
      "                                                                                                  \n",
      " conv5_block3_out (Activation)  (None, 7, 7, 2048)   0           ['conv5_block3_add[0][0]']       \n",
      "                                                                                                  \n",
      " flatten_15 (Flatten)           (None, 100352)       0           ['conv5_block3_out[0][0]']       \n",
      "                                                                                                  \n",
      " dense_16 (Dense)               (None, 16)           1605648     ['flatten_15[0][0]']             \n",
      "                                                                                                  \n",
      "==================================================================================================\n",
      "Total params: 25,193,360\n",
      "Trainable params: 1,605,648\n",
      "Non-trainable params: 23,587,712\n",
      "__________________________________________________________________________________________________\n"
     ]
    }
   ],
   "source": [
    "ResModel=Model(inputs=resnet.input,outputs=ResPrediction)\n",
    "ResModel.summary()"
   ]
  },
  {
   "cell_type": "code",
   "execution_count": 200,
   "metadata": {
    "ExecuteTime": {
     "end_time": "2023-06-06T08:20:01.452366100Z",
     "start_time": "2023-06-06T08:20:01.440839600Z"
    }
   },
   "outputs": [],
   "source": [
    "ResModel.compile(optimizer='adam',loss='categorical_crossentropy',metrics=['accuracy'])"
   ]
  },
  {
   "cell_type": "code",
   "execution_count": 201,
   "metadata": {
    "ExecuteTime": {
     "end_time": "2023-06-06T08:38:41.000000200Z",
     "start_time": "2023-06-06T08:20:01.440839600Z"
    }
   },
   "outputs": [
    {
     "name": "stdout",
     "output_type": "stream",
     "text": [
      "Epoch 1/20\n",
      "19/19 [==============================] - 55s 3s/step - loss: 13.9469 - accuracy: 0.0600 - val_loss: 10.5685 - val_accuracy: 0.1401\n",
      "Epoch 2/20\n",
      "19/19 [==============================] - 51s 3s/step - loss: 6.9560 - accuracy: 0.2267 - val_loss: 6.2368 - val_accuracy: 0.0828\n",
      "Epoch 3/20\n",
      "19/19 [==============================] - 51s 3s/step - loss: 4.5382 - accuracy: 0.2667 - val_loss: 5.7798 - val_accuracy: 0.0764\n",
      "Epoch 4/20\n",
      "19/19 [==============================] - 52s 3s/step - loss: 3.7545 - accuracy: 0.2733 - val_loss: 5.7377 - val_accuracy: 0.1720\n",
      "Epoch 5/20\n",
      "19/19 [==============================] - 54s 3s/step - loss: 3.5594 - accuracy: 0.3133 - val_loss: 4.3299 - val_accuracy: 0.1338\n",
      "Epoch 6/20\n",
      "19/19 [==============================] - 68s 4s/step - loss: 2.9521 - accuracy: 0.3533 - val_loss: 5.4078 - val_accuracy: 0.1720\n",
      "Epoch 7/20\n",
      "19/19 [==============================] - 60s 3s/step - loss: 3.3858 - accuracy: 0.3533 - val_loss: 4.6514 - val_accuracy: 0.2166\n",
      "Epoch 8/20\n",
      "19/19 [==============================] - 65s 3s/step - loss: 3.0535 - accuracy: 0.2800 - val_loss: 4.9658 - val_accuracy: 0.2038\n",
      "Epoch 9/20\n",
      "19/19 [==============================] - 56s 3s/step - loss: 3.0274 - accuracy: 0.3733 - val_loss: 4.4592 - val_accuracy: 0.2548\n",
      "Epoch 10/20\n",
      "19/19 [==============================] - 57s 3s/step - loss: 2.9893 - accuracy: 0.4133 - val_loss: 5.6442 - val_accuracy: 0.1911\n",
      "Epoch 11/20\n",
      "19/19 [==============================] - 53s 3s/step - loss: 3.3110 - accuracy: 0.3267 - val_loss: 6.5715 - val_accuracy: 0.1656\n",
      "Epoch 12/20\n",
      "19/19 [==============================] - 55s 3s/step - loss: 3.0647 - accuracy: 0.4667 - val_loss: 6.6402 - val_accuracy: 0.1911\n",
      "Epoch 13/20\n",
      "19/19 [==============================] - 56s 3s/step - loss: 3.8778 - accuracy: 0.4800 - val_loss: 5.0828 - val_accuracy: 0.1783\n",
      "Epoch 14/20\n",
      "19/19 [==============================] - 55s 3s/step - loss: 3.7686 - accuracy: 0.4067 - val_loss: 7.9215 - val_accuracy: 0.2038\n",
      "Epoch 15/20\n",
      "19/19 [==============================] - 53s 3s/step - loss: 3.4209 - accuracy: 0.4333 - val_loss: 8.2297 - val_accuracy: 0.1592\n",
      "Epoch 16/20\n",
      "19/19 [==============================] - 55s 3s/step - loss: 3.9082 - accuracy: 0.4467 - val_loss: 5.9101 - val_accuracy: 0.2357\n",
      "Epoch 17/20\n",
      "19/19 [==============================] - 55s 3s/step - loss: 3.0755 - accuracy: 0.4733 - val_loss: 7.0306 - val_accuracy: 0.2229\n",
      "Epoch 18/20\n",
      "19/19 [==============================] - 55s 3s/step - loss: 4.2506 - accuracy: 0.4067 - val_loss: 7.1100 - val_accuracy: 0.1783\n",
      "Epoch 19/20\n",
      "19/19 [==============================] - 57s 3s/step - loss: 3.7243 - accuracy: 0.4200 - val_loss: 7.5034 - val_accuracy: 0.2548\n",
      "Epoch 20/20\n",
      "19/19 [==============================] - 56s 3s/step - loss: 3.6164 - accuracy: 0.4933 - val_loss: 6.4039 - val_accuracy: 0.2675\n"
     ]
    },
    {
     "data": {
      "text/plain": [
       "<keras.callbacks.History at 0x27871156d10>"
      ]
     },
     "execution_count": 201,
     "metadata": {},
     "output_type": "execute_result"
    }
   ],
   "source": [
    "ResModel.fit(Training,epochs=20,validation_data=Testing,steps_per_epoch=len(Training),validation_steps=len(Testing))"
   ]
  },
  {
   "cell_type": "code",
   "execution_count": 202,
   "metadata": {
    "ExecuteTime": {
     "end_time": "2023-06-06T08:38:41.425391Z",
     "start_time": "2023-06-06T08:38:40.937426500Z"
    }
   },
   "outputs": [],
   "source": [
    "ResModel.save('Resnet-50Ass3.h5')"
   ]
  },
  {
   "cell_type": "code",
   "execution_count": 203,
   "metadata": {
    "ExecuteTime": {
     "end_time": "2023-06-06T08:38:42.019798500Z",
     "start_time": "2023-06-06T08:38:41.425391Z"
    }
   },
   "outputs": [],
   "source": [
    "#VGG16\n",
    "from tensorflow.keras.applications.vgg16 import VGG16\n",
    "VGG=VGG16(include_top=False,input_shape=(224,224,3))"
   ]
  },
  {
   "cell_type": "code",
   "execution_count": 204,
   "metadata": {
    "ExecuteTime": {
     "end_time": "2023-06-06T08:38:42.029112100Z",
     "start_time": "2023-06-06T08:38:42.019798500Z"
    }
   },
   "outputs": [
    {
     "name": "stdout",
     "output_type": "stream",
     "text": [
      "<keras.engine.input_layer.InputLayer object at 0x000002781E7C1BD0>\n",
      "<keras.layers.convolutional.conv2d.Conv2D object at 0x0000027803EC1010>\n",
      "<keras.layers.convolutional.conv2d.Conv2D object at 0x000002780122FB10>\n",
      "<keras.layers.pooling.max_pooling2d.MaxPooling2D object at 0x00000278193DD4D0>\n",
      "<keras.layers.convolutional.conv2d.Conv2D object at 0x0000027816DFAFD0>\n",
      "<keras.layers.convolutional.conv2d.Conv2D object at 0x0000027816E20E50>\n",
      "<keras.layers.pooling.max_pooling2d.MaxPooling2D object at 0x0000027837C72490>\n",
      "<keras.layers.convolutional.conv2d.Conv2D object at 0x000002783DBF9F50>\n",
      "<keras.layers.convolutional.conv2d.Conv2D object at 0x0000027837D737D0>\n",
      "<keras.layers.convolutional.conv2d.Conv2D object at 0x000002783DCA0810>\n",
      "<keras.layers.pooling.max_pooling2d.MaxPooling2D object at 0x000002786F6E5F50>\n",
      "<keras.layers.convolutional.conv2d.Conv2D object at 0x0000027816DA71D0>\n",
      "<keras.layers.convolutional.conv2d.Conv2D object at 0x0000027801495410>\n",
      "<keras.layers.convolutional.conv2d.Conv2D object at 0x0000027837C71050>\n",
      "<keras.layers.pooling.max_pooling2d.MaxPooling2D object at 0x0000027816E4E590>\n",
      "<keras.layers.convolutional.conv2d.Conv2D object at 0x0000027837D55FD0>\n",
      "<keras.layers.convolutional.conv2d.Conv2D object at 0x0000027837C7C390>\n",
      "<keras.layers.convolutional.conv2d.Conv2D object at 0x0000027837C7D310>\n",
      "<keras.layers.pooling.max_pooling2d.MaxPooling2D object at 0x0000027816E5B890>\n"
     ]
    }
   ],
   "source": [
    "for layer in VGG.layers:\n",
    "    layer.trainable=False\n",
    "    print(layer)"
   ]
  },
  {
   "cell_type": "code",
   "execution_count": 205,
   "metadata": {
    "ExecuteTime": {
     "end_time": "2023-06-06T08:38:42.097758100Z",
     "start_time": "2023-06-06T08:38:42.034625300Z"
    }
   },
   "outputs": [],
   "source": [
    "VGX=Flatten()(VGG.output)\n",
    "VGGPrediction=Dense(16,activation='softmax')(VGX)"
   ]
  },
  {
   "cell_type": "code",
   "execution_count": 206,
   "metadata": {
    "ExecuteTime": {
     "end_time": "2023-06-06T08:38:42.102696500Z",
     "start_time": "2023-06-06T08:38:42.066074200Z"
    }
   },
   "outputs": [],
   "source": [
    "VGG16Model=Model(VGG.input,VGGPrediction)"
   ]
  },
  {
   "cell_type": "code",
   "execution_count": 207,
   "metadata": {
    "ExecuteTime": {
     "end_time": "2023-06-06T08:38:42.102696500Z",
     "start_time": "2023-06-06T08:38:42.082119200Z"
    }
   },
   "outputs": [],
   "source": [
    "VGG16Model.compile(optimizer='adam',metrics=['accuracy'],loss='categorical_crossentropy')"
   ]
  },
  {
   "cell_type": "code",
   "execution_count": 208,
   "metadata": {
    "ExecuteTime": {
     "end_time": "2023-06-06T09:03:59.946204200Z",
     "start_time": "2023-06-06T08:38:42.102696500Z"
    }
   },
   "outputs": [
    {
     "name": "stdout",
     "output_type": "stream",
     "text": [
      "Epoch 1/20\n",
      "19/19 [==============================] - 78s 4s/step - loss: 3.2466 - accuracy: 0.2600 - val_loss: 3.2299 - val_accuracy: 0.2675\n",
      "Epoch 2/20\n",
      "19/19 [==============================] - 74s 4s/step - loss: 1.4634 - accuracy: 0.6200 - val_loss: 3.4756 - val_accuracy: 0.3185\n",
      "Epoch 3/20\n",
      "19/19 [==============================] - 75s 4s/step - loss: 0.7033 - accuracy: 0.8133 - val_loss: 3.0557 - val_accuracy: 0.4013\n",
      "Epoch 4/20\n",
      "19/19 [==============================] - 75s 4s/step - loss: 0.4901 - accuracy: 0.8667 - val_loss: 3.6251 - val_accuracy: 0.4013\n",
      "Epoch 5/20\n",
      "19/19 [==============================] - 75s 4s/step - loss: 0.2632 - accuracy: 0.8933 - val_loss: 3.1007 - val_accuracy: 0.4204\n",
      "Epoch 6/20\n",
      "19/19 [==============================] - 75s 4s/step - loss: 0.1180 - accuracy: 0.9733 - val_loss: 3.2258 - val_accuracy: 0.3694\n",
      "Epoch 7/20\n",
      "19/19 [==============================] - 74s 4s/step - loss: 0.0956 - accuracy: 0.9667 - val_loss: 3.1202 - val_accuracy: 0.4204\n",
      "Epoch 8/20\n",
      "19/19 [==============================] - 75s 4s/step - loss: 0.0958 - accuracy: 0.9733 - val_loss: 3.0788 - val_accuracy: 0.3885\n",
      "Epoch 9/20\n",
      "19/19 [==============================] - 80s 4s/step - loss: 0.1449 - accuracy: 0.9467 - val_loss: 3.1600 - val_accuracy: 0.4140\n",
      "Epoch 10/20\n",
      "19/19 [==============================] - 75s 4s/step - loss: 0.0755 - accuracy: 0.9733 - val_loss: 3.5776 - val_accuracy: 0.3567\n",
      "Epoch 11/20\n",
      "19/19 [==============================] - 75s 4s/step - loss: 0.0361 - accuracy: 0.9933 - val_loss: 3.1703 - val_accuracy: 0.4013\n",
      "Epoch 12/20\n",
      "19/19 [==============================] - 75s 4s/step - loss: 0.0289 - accuracy: 0.9933 - val_loss: 3.3121 - val_accuracy: 0.3758\n",
      "Epoch 13/20\n",
      "19/19 [==============================] - 75s 4s/step - loss: 0.0211 - accuracy: 1.0000 - val_loss: 3.2561 - val_accuracy: 0.3885\n",
      "Epoch 14/20\n",
      "19/19 [==============================] - 75s 4s/step - loss: 0.0149 - accuracy: 1.0000 - val_loss: 3.1567 - val_accuracy: 0.4013\n",
      "Epoch 15/20\n",
      "19/19 [==============================] - 75s 4s/step - loss: 0.0198 - accuracy: 1.0000 - val_loss: 3.2156 - val_accuracy: 0.4013\n",
      "Epoch 16/20\n",
      "19/19 [==============================] - 75s 4s/step - loss: 0.0127 - accuracy: 1.0000 - val_loss: 3.2453 - val_accuracy: 0.3822\n",
      "Epoch 17/20\n",
      "19/19 [==============================] - 75s 4s/step - loss: 0.0132 - accuracy: 1.0000 - val_loss: 3.3429 - val_accuracy: 0.3822\n",
      "Epoch 18/20\n",
      "19/19 [==============================] - 75s 4s/step - loss: 0.0113 - accuracy: 1.0000 - val_loss: 3.1936 - val_accuracy: 0.3822\n",
      "Epoch 19/20\n",
      "19/19 [==============================] - 75s 4s/step - loss: 0.0140 - accuracy: 1.0000 - val_loss: 3.2156 - val_accuracy: 0.3694\n",
      "Epoch 20/20\n",
      "19/19 [==============================] - 85s 5s/step - loss: 0.0134 - accuracy: 1.0000 - val_loss: 3.3362 - val_accuracy: 0.3822\n"
     ]
    },
    {
     "data": {
      "text/plain": [
       "<keras.callbacks.History at 0x27837c32c10>"
      ]
     },
     "execution_count": 208,
     "metadata": {},
     "output_type": "execute_result"
    }
   ],
   "source": [
    "VGG16Model.fit(Training,epochs=20,validation_data=Testing,steps_per_epoch=len(Training),validation_steps=len(Testing))"
   ]
  },
  {
   "cell_type": "code",
   "execution_count": 210,
   "metadata": {
    "ExecuteTime": {
     "end_time": "2023-06-06T09:04:17.047594Z",
     "start_time": "2023-06-06T09:04:16.936058100Z"
    }
   },
   "outputs": [],
   "source": [
    "VGG16Model.save('VGG-50Ass3.h5')"
   ]
  },
  {
   "cell_type": "code",
   "execution_count": 211,
   "metadata": {
    "ExecuteTime": {
     "end_time": "2023-06-06T09:04:19.023559900Z",
     "start_time": "2023-06-06T09:04:19.023048500Z"
    }
   },
   "outputs": [],
   "source": [
    "#XCeption\n",
    "from keras.applications.xception import Xception"
   ]
  },
  {
   "cell_type": "code",
   "execution_count": 212,
   "metadata": {
    "ExecuteTime": {
     "end_time": "2023-06-06T09:04:20.729341300Z",
     "start_time": "2023-06-06T09:04:20.634747900Z"
    }
   },
   "outputs": [
    {
     "name": "stdout",
     "output_type": "stream",
     "text": [
      "Found 150 images belonging to 16 classes.\n",
      "Found 157 images belonging to 16 classes.\n"
     ]
    }
   ],
   "source": [
    "TrainingX=Train_Gen.flow_from_directory('CNN/Birds_Dataset/dataset/Training',class_mode='categorical',batch_size=8,target_size=(299,299))\n",
    "TestingX=Test_Gen.flow_from_directory('CNN/Birds_Dataset/dataset/Testing',class_mode='categorical',batch_size=8,target_size=(299,299))"
   ]
  },
  {
   "cell_type": "code",
   "execution_count": 213,
   "metadata": {
    "ExecuteTime": {
     "end_time": "2023-06-06T09:28:45.472742200Z",
     "start_time": "2023-06-06T09:04:21.963965Z"
    }
   },
   "outputs": [
    {
     "name": "stdout",
     "output_type": "stream",
     "text": [
      "Epoch 1/20\n",
      "19/19 [==============================] - 78s 4s/step - loss: 13.5148 - accuracy: 0.3933 - val_loss: 12.3591 - val_accuracy: 0.4459\n",
      "Epoch 2/20\n",
      "19/19 [==============================] - 72s 4s/step - loss: 3.5460 - accuracy: 0.7800 - val_loss: 12.7202 - val_accuracy: 0.4459\n",
      "Epoch 3/20\n",
      "19/19 [==============================] - 73s 4s/step - loss: 2.0889 - accuracy: 0.8467 - val_loss: 14.9850 - val_accuracy: 0.5223\n",
      "Epoch 4/20\n",
      "19/19 [==============================] - 72s 4s/step - loss: 1.2252 - accuracy: 0.9133 - val_loss: 18.7239 - val_accuracy: 0.5159\n",
      "Epoch 5/20\n",
      "19/19 [==============================] - 73s 4s/step - loss: 1.0491 - accuracy: 0.9267 - val_loss: 18.2529 - val_accuracy: 0.5350\n",
      "Epoch 6/20\n",
      "19/19 [==============================] - 72s 4s/step - loss: 0.5901 - accuracy: 0.9600 - val_loss: 19.3675 - val_accuracy: 0.4841\n",
      "Epoch 7/20\n",
      "19/19 [==============================] - 73s 4s/step - loss: 1.1722 - accuracy: 0.9000 - val_loss: 20.4451 - val_accuracy: 0.5287\n",
      "Epoch 8/20\n",
      "19/19 [==============================] - 72s 4s/step - loss: 1.3086 - accuracy: 0.9467 - val_loss: 21.3272 - val_accuracy: 0.5350\n",
      "Epoch 9/20\n",
      "19/19 [==============================] - 72s 4s/step - loss: 0.5809 - accuracy: 0.9667 - val_loss: 21.1073 - val_accuracy: 0.4713\n",
      "Epoch 10/20\n",
      "19/19 [==============================] - 72s 4s/step - loss: 0.8992 - accuracy: 0.9533 - val_loss: 18.6326 - val_accuracy: 0.5287\n",
      "Epoch 11/20\n",
      "19/19 [==============================] - 72s 4s/step - loss: 0.0636 - accuracy: 0.9867 - val_loss: 21.4990 - val_accuracy: 0.4713\n",
      "Epoch 12/20\n",
      "19/19 [==============================] - 72s 4s/step - loss: 0.3657 - accuracy: 0.9733 - val_loss: 20.3506 - val_accuracy: 0.5032\n",
      "Epoch 13/20\n",
      "19/19 [==============================] - 72s 4s/step - loss: 0.5168 - accuracy: 0.9667 - val_loss: 22.1458 - val_accuracy: 0.5096\n",
      "Epoch 14/20\n",
      "19/19 [==============================] - 72s 4s/step - loss: 0.1935 - accuracy: 0.9867 - val_loss: 24.3858 - val_accuracy: 0.5223\n",
      "Epoch 15/20\n",
      "19/19 [==============================] - 77s 4s/step - loss: 0.4337 - accuracy: 0.9800 - val_loss: 25.0509 - val_accuracy: 0.5096\n",
      "Epoch 16/20\n",
      "19/19 [==============================] - 72s 4s/step - loss: 0.2684 - accuracy: 0.9667 - val_loss: 21.2715 - val_accuracy: 0.5032\n",
      "Epoch 17/20\n",
      "19/19 [==============================] - 72s 4s/step - loss: 0.0882 - accuracy: 0.9867 - val_loss: 21.6546 - val_accuracy: 0.5223\n",
      "Epoch 18/20\n",
      "19/19 [==============================] - 72s 4s/step - loss: 0.2969 - accuracy: 0.9733 - val_loss: 31.8060 - val_accuracy: 0.4013\n",
      "Epoch 19/20\n",
      "19/19 [==============================] - 72s 4s/step - loss: 1.2513 - accuracy: 0.9467 - val_loss: 26.1938 - val_accuracy: 0.4777\n",
      "Epoch 20/20\n",
      "19/19 [==============================] - 76s 4s/step - loss: 0.2883 - accuracy: 0.9800 - val_loss: 24.4802 - val_accuracy: 0.4586\n"
     ]
    },
    {
     "data": {
      "text/plain": [
       "<keras.callbacks.History at 0x27819118f50>"
      ]
     },
     "execution_count": 213,
     "metadata": {},
     "output_type": "execute_result"
    }
   ],
   "source": [
    "Xcep=Xception(include_top=False,input_shape=(299,299,3))\n",
    "for layer in Xcep.layers:\n",
    "    layer.trainable=False\n",
    "XcepX=Flatten()(Xcep.output)\n",
    "XcepPrediction=Dense(16,activation='softmax')(XcepX)\n",
    "XcepModel=Model(Xcep.inputs,XcepPrediction)\n",
    "XcepModel.compile(optimizer='adam',metrics=['accuracy'],loss='categorical_crossentropy')\n",
    "XcepModel.fit(TrainingX,epochs=20,validation_data=TestingX,steps_per_epoch=len(TrainingX),validation_steps=len(TestingX))"
   ]
  },
  {
   "cell_type": "code",
   "execution_count": null,
   "metadata": {
    "ExecuteTime": {
     "start_time": "2023-06-06T09:03:59.993513300Z"
    }
   },
   "outputs": [],
   "source": [
    "XcepModel.save('XCep-50Ass3.h5')"
   ]
  }
 ],
 "metadata": {
  "kernelspec": {
   "display_name": "Python 3 (ipykernel)",
   "language": "python",
   "name": "python3"
  },
  "language_info": {
   "codemirror_mode": {
    "name": "ipython",
    "version": 3
   },
   "file_extension": ".py",
   "mimetype": "text/x-python",
   "name": "python",
   "nbconvert_exporter": "python",
   "pygments_lexer": "ipython3",
   "version": "3.11.3"
  }
 },
 "nbformat": 4,
 "nbformat_minor": 1
}
